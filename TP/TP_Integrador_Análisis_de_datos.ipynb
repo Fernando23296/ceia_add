{
 "cells": [
  {
   "cell_type": "markdown",
   "metadata": {
    "id": "mt8Ob7e16X3C"
   },
   "source": [
    "# Análisis de datos - Trabajo final integrador\n",
    "\n",
    "<img src=\"https://encrypted-tbn0.gstatic.com/images?q=tbn:ANd9GcQATNC-EBwF-LIbDVv_L0gkP2V6oKQzah5GRg&usqp=CAU\"/>\n",
    "\n",
    "Se propone realizar el ciclo completo del desarrollo de un modelo de aprendizaje automático supervisado.\n",
    "\n",
    "Trabajaremos con un [dataset de Kaggle con datos de por distintas estaciones metereológicas de Australia](https://www.kaggle.com/jsphyg/weather-dataset-rattle-package?select=weatherAUS.csv).\n",
    "\n",
    "El objetivo es predecir si lloverá o no al día siguiente (variable *RainTomorrow*), en función datos metereológicos del día actual.\n"
   ]
  },
  {
   "cell_type": "markdown",
   "metadata": {
    "id": "FL1aYkP79FwE"
   },
   "source": [
    "## Enunciado\n",
    "\n",
    "- Descargar el [dataset de kaggle](https://www.kaggle.com/jsphyg/weather-dataset-rattle-package?select=weatherAUS.csv)\n",
    "\n",
    "### 1. Análisis exploratorio inicial\n",
    "\n",
    "- Visualizar las primeras filas.\n",
    "- Realizar un resumen de 5 números.\n",
    "- Identificar los tipos de datos: categórico, ordinal, etc. Responder para cada variable su tipo y si es informativa para un problema de clasificación (por ejemplo si se trata de un código, como una matrícula, o un nombre propio).\n",
    "- Identificar las variables de entrada y de salida del problema.\n",
    "- Variables de entrada:\n",
    "  - Realizar los siguientes análisis por tipo de variable.\n",
    "    - Numéricas: \n",
    "      - Obtener conclusiones acerca de la distribución de los datos.\n",
    "    - Categóricas\n",
    "        - Obtener conclusiones acerca de cardinalidad, representación de cada categoría, etc.\n",
    "    - Compuestas/otros. ¿Cómo pueden tratarse para utilizarlas en el problema elegido?\n",
    "- Variables de salida:\n",
    "  - ¿Están balanceadas las clases?\n",
    "  - ¿Qué técnicas consideraría para codificar la variable de salida? Justificar.\n",
    "\n",
    "### 2. Esquema de validación de resultados\n",
    "\n",
    "- Los pasos siguientes comprenden las etapas de preparación de datos y evaluación de resultados. \n",
    "- Para ello, se debe particionar el dataset en entrenamiento y validación.\n",
    "\n",
    "### 3. Limpieza y preparación de datos / ingeniería de features\n",
    "\n",
    "- Datos faltantes. Indicar cantidad de observaciones y valores faltantes para cada variable.\n",
    "- ¿Qué supuestos puede realizar acerca de los datos faltantes? ¿Qué técnicas de imputación recomendaría?. Ensayar distintas técnicas y analizar los resultados. \n",
    "- En función del estudio inicial de las variables que se hizo en la sección anterior, elegir una técnica de codificación para cada variable. Cuando lo considere apropiado, ensayar distintas técnicas y comparar los resultados, teniendo en cuenta el tipo de clasificador a utilizar. Nota: para tipos de datos compuestos o estructurados, considerar la obtención de variables de tipo númerico/categórico.\n",
    "- ¿Qué puede decir acerca de las relaciones entre las variables de entrada?\n",
    "\n",
    "- Antes de entrenar un modelo de aprendizaje automático, ¿Podría identificar las variables de entrada de mayor importancia?. Considerar por lo menos dos técnicas para cada variable. Explique brevemente los métodos utilizados.\n",
    "\n",
    "### 4. Entrenamiento de modelos\n",
    "\n",
    "- Recurriendo a los modelos que conozca, defina una lista de modelos candidatos a entrenar (puede ser el mismo tipo de clasificador con distintos hiperparámetros). Nota: no se contemplará el desempeño del modelo elegido, sino las conclusiones que puedan establecerse a partir de la preparación previa de los datos.\n",
    "\n",
    "- Ensaye distintas cadenas de procesamiento con las técnicas consideradas en la sección 3 (por ejemplo, distintas técnicas de imputación, selección de variables de entrada, codificación de variables categóricas, transformación, etc.).\n",
    "\n",
    "### 5. Evaluación de resultados y conclusiones\n",
    "\n",
    "- ¿Qué puede concluir acerca de los modelos y preparaciones de datos ensayadas? Tener en cuenta como cada preparación afecta a los distintos modelos.\n",
    "\n",
    "### 6. Presentación de resultados\n",
    "\n",
    "- Elabore un informe de dos o tres páginas describiendo el procedimiento realizado y las conclusiones importantes indicando la ruta del código fuente en git.\n"
   ]
  },
  {
   "cell_type": "markdown",
   "metadata": {
    "id": "9wbfvvM_prNr"
   },
   "source": [
    "## Desarrollo"
   ]
  },
  {
   "cell_type": "markdown",
   "metadata": {
    "id": "hAtQejT7qETH"
   },
   "source": [
    "### 1. Análisis exploratorio inicial\n",
    "Visualizar las primeras filas.\n",
    "Realizar un resumen de 5 números.\n",
    "Identificar los tipos de datos: categórico, ordinal, etc. Responder para cada variable su tipo y si es informativa para un problema de clasificación (por ejemplo si se trata de un código, como una matrícula, o un nombre propio).\n",
    "Identificar las variables de entrada y de salida del problema.\n",
    "Variables de entrada:\n",
    "Realizar los siguientes análisis por tipo de variable.\n",
    "Numéricas:\n",
    "Obtener conclusiones acerca de la distribución de los datos.\n",
    "Categóricas\n",
    "Obtener conclusiones acerca de cardinalidad, representación de cada categoría, etc.\n",
    "Compuestas/otros. ¿Cómo pueden tratarse para utilizarlas en el problema elegido?\n",
    "Variables de salida:\n",
    "¿Están balanceadas las clases?\n",
    "¿Qué técnicas consideraría para codificar la variable de salida? Justificar."
   ]
  },
  {
   "cell_type": "code",
   "execution_count": 765,
   "metadata": {
    "id": "ejG46ivYpp4v"
   },
   "outputs": [],
   "source": [
    "import numpy as np\n",
    "import pandas as pd\n",
    "import matplotlib.pyplot as plt\n",
    "import seaborn as sns; sns.set()\n",
    "import re"
   ]
  },
  {
   "cell_type": "markdown",
   "metadata": {},
   "source": [
    "#### Defino una función que me asegura si puedo aplicar CCA"
   ]
  },
  {
   "cell_type": "markdown",
   "metadata": {},
   "source": [
    "Defino una función que me devuelve el porcentaje de valores nulos dada una colunna."
   ]
  },
  {
   "cell_type": "code",
   "execution_count": 766,
   "metadata": {},
   "outputs": [],
   "source": [
    "def porcentaje_nulos(columna):\n",
    "    m = columna.shape[0]\n",
    "    num_nul = columna.isnull().sum()\n",
    "    porc_nul = (num_nul * 100)/m\n",
    "    return porc_nul\n",
    "    "
   ]
  },
  {
   "cell_type": "markdown",
   "metadata": {},
   "source": [
    "Función que  devuelve en booleano si una determinada columna tiene o no el numero de valores nulos mayor al 5% del dataset"
   ]
  },
  {
   "cell_type": "code",
   "execution_count": 767,
   "metadata": {},
   "outputs": [],
   "source": [
    "def cca(columna):\n",
    "    m = columna.shape[0]\n",
    "    porc_minimo = (5*m)/100\n",
    "    num_nul = columna.isnull().sum()\n",
    "    if num_nul < porc_minimo:\n",
    "        return True\n",
    "    else:\n",
    "        return False"
   ]
  },
  {
   "cell_type": "markdown",
   "metadata": {},
   "source": [
    "?"
   ]
  },
  {
   "cell_type": "code",
   "execution_count": 768,
   "metadata": {},
   "outputs": [],
   "source": [
    "def display_dataset_distributions(dataset):\n",
    "    fig = dataset.hist(xlabelsize=12, ylabelsize=12,figsize=(22,10))\n",
    "    [x.title.set_size(14) for x in fig.ravel()]\n",
    "    plt.tight_layout()\n",
    "    plt.show()"
   ]
  },
  {
   "cell_type": "markdown",
   "metadata": {},
   "source": [
    "Función que dada una lista donde figuran los nombres de determinadas columnas, devuelve cuales tienen valores nulos menores al 5% y cuales no."
   ]
  },
  {
   "cell_type": "code",
   "execution_count": 769,
   "metadata": {},
   "outputs": [],
   "source": [
    "def col_cca_nocca(columnas):    \n",
    "    cca_columns = []\n",
    "    no_cca_columns = []\n",
    "    for i in columnas:\n",
    "        if cca(df[i]):\n",
    "            cca_columns.append(i)\n",
    "        else:\n",
    "            no_cca_columns.append(i)\n",
    "    return cca_columns, no_cca_columns"
   ]
  },
  {
   "cell_type": "markdown",
   "metadata": {},
   "source": [
    "Función que devuelve en booleano si una columna tiene mas de 35% de datos faltantes"
   ]
  },
  {
   "cell_type": "code",
   "execution_count": 770,
   "metadata": {},
   "outputs": [],
   "source": [
    "def mayor_35(columnas):\n",
    "    m = columnas.shape[0]\n",
    "    porc_minimo = (35*m)/100\n",
    "    num_nul = columnas.isnull().sum()\n",
    "    if num_nul > porc_minimo:\n",
    "        return True\n",
    "    else:\n",
    "        return False\n",
    "    "
   ]
  },
  {
   "cell_type": "markdown",
   "metadata": {},
   "source": [
    "Función que dada una lista donde figuran los nombres de determinadas columnas, devuelve cuales tienen valores nulos menores al 35% y cuales no."
   ]
  },
  {
   "cell_type": "code",
   "execution_count": 771,
   "metadata": {},
   "outputs": [],
   "source": [
    "def col_mayor_35(columnas):    \n",
    "    col_mayor_35 = []\n",
    "    no_col_mayor_35 = []\n",
    "    for i in columnas:\n",
    "        if mayor_35(df[i]):\n",
    "            col_mayor_35.append(i)\n",
    "        else:\n",
    "            no_col_mayor_35.append(i)\n",
    "    return col_mayor_35, no_col_mayor_35"
   ]
  },
  {
   "cell_type": "markdown",
   "metadata": {},
   "source": [
    "Función que separa strings que tiene dos palabras unidas en formato camel case"
   ]
  },
  {
   "cell_type": "code",
   "execution_count": 772,
   "metadata": {},
   "outputs": [],
   "source": [
    " def camel_case_split(str):\n",
    "        splitted = re.findall(r'[A-Z](?:[a-z]+|[A-Z]*(?=[A-Z]|$))', str)\n",
    "        joined = ' '.join(splitted)\n",
    "        return joined"
   ]
  },
  {
   "cell_type": "markdown",
   "metadata": {},
   "source": [
    "# 1.- Análisis exploratorio inicial"
   ]
  },
  {
   "cell_type": "code",
   "execution_count": 773,
   "metadata": {
    "colab": {
     "base_uri": "https://localhost:8080/",
     "height": 309
    },
    "id": "wo5YaeuUqNWy",
    "outputId": "8cdb75b0-e793-4337-9f93-99c61b914298"
   },
   "outputs": [
    {
     "data": {
      "text/html": [
       "<div>\n",
       "<style scoped>\n",
       "    .dataframe tbody tr th:only-of-type {\n",
       "        vertical-align: middle;\n",
       "    }\n",
       "\n",
       "    .dataframe tbody tr th {\n",
       "        vertical-align: top;\n",
       "    }\n",
       "\n",
       "    .dataframe thead th {\n",
       "        text-align: right;\n",
       "    }\n",
       "</style>\n",
       "<table border=\"1\" class=\"dataframe\">\n",
       "  <thead>\n",
       "    <tr style=\"text-align: right;\">\n",
       "      <th></th>\n",
       "      <th>Date</th>\n",
       "      <th>Location</th>\n",
       "      <th>MinTemp</th>\n",
       "      <th>MaxTemp</th>\n",
       "      <th>Rainfall</th>\n",
       "      <th>Evaporation</th>\n",
       "      <th>Sunshine</th>\n",
       "      <th>WindGustDir</th>\n",
       "      <th>WindGustSpeed</th>\n",
       "      <th>WindDir9am</th>\n",
       "      <th>...</th>\n",
       "      <th>Humidity9am</th>\n",
       "      <th>Humidity3pm</th>\n",
       "      <th>Pressure9am</th>\n",
       "      <th>Pressure3pm</th>\n",
       "      <th>Cloud9am</th>\n",
       "      <th>Cloud3pm</th>\n",
       "      <th>Temp9am</th>\n",
       "      <th>Temp3pm</th>\n",
       "      <th>RainToday</th>\n",
       "      <th>RainTomorrow</th>\n",
       "    </tr>\n",
       "  </thead>\n",
       "  <tbody>\n",
       "    <tr>\n",
       "      <th>0</th>\n",
       "      <td>2008-12-01</td>\n",
       "      <td>Albury</td>\n",
       "      <td>13.4</td>\n",
       "      <td>22.9</td>\n",
       "      <td>0.6</td>\n",
       "      <td>NaN</td>\n",
       "      <td>NaN</td>\n",
       "      <td>W</td>\n",
       "      <td>44.0</td>\n",
       "      <td>W</td>\n",
       "      <td>...</td>\n",
       "      <td>71.0</td>\n",
       "      <td>22.0</td>\n",
       "      <td>1007.7</td>\n",
       "      <td>1007.1</td>\n",
       "      <td>8.0</td>\n",
       "      <td>NaN</td>\n",
       "      <td>16.9</td>\n",
       "      <td>21.8</td>\n",
       "      <td>No</td>\n",
       "      <td>No</td>\n",
       "    </tr>\n",
       "    <tr>\n",
       "      <th>1</th>\n",
       "      <td>2008-12-02</td>\n",
       "      <td>Albury</td>\n",
       "      <td>7.4</td>\n",
       "      <td>25.1</td>\n",
       "      <td>0.0</td>\n",
       "      <td>NaN</td>\n",
       "      <td>NaN</td>\n",
       "      <td>WNW</td>\n",
       "      <td>44.0</td>\n",
       "      <td>NNW</td>\n",
       "      <td>...</td>\n",
       "      <td>44.0</td>\n",
       "      <td>25.0</td>\n",
       "      <td>1010.6</td>\n",
       "      <td>1007.8</td>\n",
       "      <td>NaN</td>\n",
       "      <td>NaN</td>\n",
       "      <td>17.2</td>\n",
       "      <td>24.3</td>\n",
       "      <td>No</td>\n",
       "      <td>No</td>\n",
       "    </tr>\n",
       "    <tr>\n",
       "      <th>2</th>\n",
       "      <td>2008-12-03</td>\n",
       "      <td>Albury</td>\n",
       "      <td>12.9</td>\n",
       "      <td>25.7</td>\n",
       "      <td>0.0</td>\n",
       "      <td>NaN</td>\n",
       "      <td>NaN</td>\n",
       "      <td>WSW</td>\n",
       "      <td>46.0</td>\n",
       "      <td>W</td>\n",
       "      <td>...</td>\n",
       "      <td>38.0</td>\n",
       "      <td>30.0</td>\n",
       "      <td>1007.6</td>\n",
       "      <td>1008.7</td>\n",
       "      <td>NaN</td>\n",
       "      <td>2.0</td>\n",
       "      <td>21.0</td>\n",
       "      <td>23.2</td>\n",
       "      <td>No</td>\n",
       "      <td>No</td>\n",
       "    </tr>\n",
       "    <tr>\n",
       "      <th>3</th>\n",
       "      <td>2008-12-04</td>\n",
       "      <td>Albury</td>\n",
       "      <td>9.2</td>\n",
       "      <td>28.0</td>\n",
       "      <td>0.0</td>\n",
       "      <td>NaN</td>\n",
       "      <td>NaN</td>\n",
       "      <td>NE</td>\n",
       "      <td>24.0</td>\n",
       "      <td>SE</td>\n",
       "      <td>...</td>\n",
       "      <td>45.0</td>\n",
       "      <td>16.0</td>\n",
       "      <td>1017.6</td>\n",
       "      <td>1012.8</td>\n",
       "      <td>NaN</td>\n",
       "      <td>NaN</td>\n",
       "      <td>18.1</td>\n",
       "      <td>26.5</td>\n",
       "      <td>No</td>\n",
       "      <td>No</td>\n",
       "    </tr>\n",
       "    <tr>\n",
       "      <th>4</th>\n",
       "      <td>2008-12-05</td>\n",
       "      <td>Albury</td>\n",
       "      <td>17.5</td>\n",
       "      <td>32.3</td>\n",
       "      <td>1.0</td>\n",
       "      <td>NaN</td>\n",
       "      <td>NaN</td>\n",
       "      <td>W</td>\n",
       "      <td>41.0</td>\n",
       "      <td>ENE</td>\n",
       "      <td>...</td>\n",
       "      <td>82.0</td>\n",
       "      <td>33.0</td>\n",
       "      <td>1010.8</td>\n",
       "      <td>1006.0</td>\n",
       "      <td>7.0</td>\n",
       "      <td>8.0</td>\n",
       "      <td>17.8</td>\n",
       "      <td>29.7</td>\n",
       "      <td>No</td>\n",
       "      <td>No</td>\n",
       "    </tr>\n",
       "  </tbody>\n",
       "</table>\n",
       "<p>5 rows × 23 columns</p>\n",
       "</div>"
      ],
      "text/plain": [
       "         Date Location  MinTemp  MaxTemp  Rainfall  Evaporation  Sunshine  \\\n",
       "0  2008-12-01   Albury     13.4     22.9       0.6          NaN       NaN   \n",
       "1  2008-12-02   Albury      7.4     25.1       0.0          NaN       NaN   \n",
       "2  2008-12-03   Albury     12.9     25.7       0.0          NaN       NaN   \n",
       "3  2008-12-04   Albury      9.2     28.0       0.0          NaN       NaN   \n",
       "4  2008-12-05   Albury     17.5     32.3       1.0          NaN       NaN   \n",
       "\n",
       "  WindGustDir  WindGustSpeed WindDir9am  ... Humidity9am  Humidity3pm  \\\n",
       "0           W           44.0          W  ...        71.0         22.0   \n",
       "1         WNW           44.0        NNW  ...        44.0         25.0   \n",
       "2         WSW           46.0          W  ...        38.0         30.0   \n",
       "3          NE           24.0         SE  ...        45.0         16.0   \n",
       "4           W           41.0        ENE  ...        82.0         33.0   \n",
       "\n",
       "   Pressure9am  Pressure3pm  Cloud9am  Cloud3pm  Temp9am  Temp3pm  RainToday  \\\n",
       "0       1007.7       1007.1       8.0       NaN     16.9     21.8         No   \n",
       "1       1010.6       1007.8       NaN       NaN     17.2     24.3         No   \n",
       "2       1007.6       1008.7       NaN       2.0     21.0     23.2         No   \n",
       "3       1017.6       1012.8       NaN       NaN     18.1     26.5         No   \n",
       "4       1010.8       1006.0       7.0       8.0     17.8     29.7         No   \n",
       "\n",
       "   RainTomorrow  \n",
       "0            No  \n",
       "1            No  \n",
       "2            No  \n",
       "3            No  \n",
       "4            No  \n",
       "\n",
       "[5 rows x 23 columns]"
      ]
     },
     "execution_count": 773,
     "metadata": {},
     "output_type": "execute_result"
    }
   ],
   "source": [
    "df = pd.read_csv(\"weatherAUS.csv\")\n",
    "df.head(5)"
   ]
  },
  {
   "cell_type": "code",
   "execution_count": 917,
   "metadata": {},
   "outputs": [
    {
     "name": "stdout",
     "output_type": "stream",
     "text": [
      "<class 'pandas.core.frame.DataFrame'>\n",
      "RangeIndex: 103223 entries, 0 to 103222\n",
      "Data columns (total 62 columns):\n",
      " #   Column           Non-Null Count   Dtype  \n",
      "---  ------           --------------   -----  \n",
      " 0   Location         103223 non-null  float64\n",
      " 1   MinTemp          103223 non-null  float64\n",
      " 2   MaxTemp          103223 non-null  float64\n",
      " 3   Rainfall         103223 non-null  float64\n",
      " 4   WindGustSpeed    103223 non-null  float64\n",
      " 5   WindSpeed9am     103223 non-null  float64\n",
      " 6   WindSpeed3pm     103223 non-null  float64\n",
      " 7   Humidity9am      103223 non-null  float64\n",
      " 8   Humidity3pm      103223 non-null  float64\n",
      " 9   Pressure9am      103223 non-null  float64\n",
      " 10  Pressure3pm      103223 non-null  float64\n",
      " 11  Temp9am          103223 non-null  float64\n",
      " 12  Temp3pm          103223 non-null  float64\n",
      " 13  RainToday        103223 non-null  float64\n",
      " 14  RainTomorrow     103223 non-null  float64\n",
      " 15  Month            103223 non-null  float64\n",
      " 16  Location_        103223 non-null  float64\n",
      " 17  WindGustDir_ENE  103223 non-null  float64\n",
      " 18  WindGustDir_ESE  103223 non-null  float64\n",
      " 19  WindGustDir_N    103223 non-null  float64\n",
      " 20  WindGustDir_NE   103223 non-null  float64\n",
      " 21  WindGustDir_NNE  103223 non-null  float64\n",
      " 22  WindGustDir_NNW  103223 non-null  float64\n",
      " 23  WindGustDir_NW   103223 non-null  float64\n",
      " 24  WindGustDir_S    103223 non-null  float64\n",
      " 25  WindGustDir_SE   103223 non-null  float64\n",
      " 26  WindGustDir_SSE  103223 non-null  float64\n",
      " 27  WindGustDir_SSW  103223 non-null  float64\n",
      " 28  WindGustDir_SW   103223 non-null  float64\n",
      " 29  WindGustDir_W    103223 non-null  float64\n",
      " 30  WindGustDir_WNW  103223 non-null  float64\n",
      " 31  WindGustDir_WSW  103223 non-null  float64\n",
      " 32  WindDir9am_ENE   103223 non-null  float64\n",
      " 33  WindDir9am_ESE   103223 non-null  float64\n",
      " 34  WindDir9am_N     103223 non-null  float64\n",
      " 35  WindDir9am_NE    103223 non-null  float64\n",
      " 36  WindDir9am_NNE   103223 non-null  float64\n",
      " 37  WindDir9am_NNW   103223 non-null  float64\n",
      " 38  WindDir9am_NW    103223 non-null  float64\n",
      " 39  WindDir9am_S     103223 non-null  float64\n",
      " 40  WindDir9am_SE    103223 non-null  float64\n",
      " 41  WindDir9am_SSE   103223 non-null  float64\n",
      " 42  WindDir9am_SSW   103223 non-null  float64\n",
      " 43  WindDir9am_SW    103223 non-null  float64\n",
      " 44  WindDir9am_W     103223 non-null  float64\n",
      " 45  WindDir9am_WNW   103223 non-null  float64\n",
      " 46  WindDir9am_WSW   103223 non-null  float64\n",
      " 47  WindDir3pm_ENE   103223 non-null  float64\n",
      " 48  WindDir3pm_ESE   103223 non-null  float64\n",
      " 49  WindDir3pm_N     103223 non-null  float64\n",
      " 50  WindDir3pm_NE    103223 non-null  float64\n",
      " 51  WindDir3pm_NNE   103223 non-null  float64\n",
      " 52  WindDir3pm_NNW   103223 non-null  float64\n",
      " 53  WindDir3pm_NW    103223 non-null  float64\n",
      " 54  WindDir3pm_S     103223 non-null  float64\n",
      " 55  WindDir3pm_SE    103223 non-null  float64\n",
      " 56  WindDir3pm_SSE   103223 non-null  float64\n",
      " 57  WindDir3pm_SSW   103223 non-null  float64\n",
      " 58  WindDir3pm_SW    103223 non-null  float64\n",
      " 59  WindDir3pm_W     103223 non-null  float64\n",
      " 60  WindDir3pm_WNW   103223 non-null  float64\n",
      " 61  WindDir3pm_WSW   103223 non-null  float64\n",
      "dtypes: float64(62)\n",
      "memory usage: 48.8 MB\n"
     ]
    }
   ],
   "source": [
    "df.info()"
   ]
  },
  {
   "cell_type": "code",
   "execution_count": 918,
   "metadata": {
    "colab": {
     "base_uri": "https://localhost:8080/",
     "height": 317
    },
    "id": "7VXviBP0qdqQ",
    "outputId": "83bce039-7914-4c06-efab-dd5f495fb7a3"
   },
   "outputs": [
    {
     "data": {
      "text/html": [
       "<div>\n",
       "<style scoped>\n",
       "    .dataframe tbody tr th:only-of-type {\n",
       "        vertical-align: middle;\n",
       "    }\n",
       "\n",
       "    .dataframe tbody tr th {\n",
       "        vertical-align: top;\n",
       "    }\n",
       "\n",
       "    .dataframe thead th {\n",
       "        text-align: right;\n",
       "    }\n",
       "</style>\n",
       "<table border=\"1\" class=\"dataframe\">\n",
       "  <thead>\n",
       "    <tr style=\"text-align: right;\">\n",
       "      <th></th>\n",
       "      <th>count</th>\n",
       "      <th>mean</th>\n",
       "      <th>std</th>\n",
       "      <th>min</th>\n",
       "      <th>25%</th>\n",
       "      <th>50%</th>\n",
       "      <th>75%</th>\n",
       "      <th>max</th>\n",
       "    </tr>\n",
       "  </thead>\n",
       "  <tbody>\n",
       "    <tr>\n",
       "      <th>Location</th>\n",
       "      <td>103223.0</td>\n",
       "      <td>0.335841</td>\n",
       "      <td>0.370128</td>\n",
       "      <td>0.0</td>\n",
       "      <td>0.077511</td>\n",
       "      <td>0.111692</td>\n",
       "      <td>0.821827</td>\n",
       "      <td>1.0</td>\n",
       "    </tr>\n",
       "    <tr>\n",
       "      <th>MinTemp</th>\n",
       "      <td>103223.0</td>\n",
       "      <td>0.485192</td>\n",
       "      <td>0.152281</td>\n",
       "      <td>0.0</td>\n",
       "      <td>0.375297</td>\n",
       "      <td>0.477435</td>\n",
       "      <td>0.591449</td>\n",
       "      <td>1.0</td>\n",
       "    </tr>\n",
       "    <tr>\n",
       "      <th>MaxTemp</th>\n",
       "      <td>103223.0</td>\n",
       "      <td>0.455356</td>\n",
       "      <td>0.155342</td>\n",
       "      <td>0.0</td>\n",
       "      <td>0.331868</td>\n",
       "      <td>0.441758</td>\n",
       "      <td>0.571429</td>\n",
       "      <td>1.0</td>\n",
       "    </tr>\n",
       "    <tr>\n",
       "      <th>Rainfall</th>\n",
       "      <td>103223.0</td>\n",
       "      <td>0.006164</td>\n",
       "      <td>0.022524</td>\n",
       "      <td>0.0</td>\n",
       "      <td>0.000000</td>\n",
       "      <td>0.000000</td>\n",
       "      <td>0.001632</td>\n",
       "      <td>1.0</td>\n",
       "    </tr>\n",
       "    <tr>\n",
       "      <th>WindGustSpeed</th>\n",
       "      <td>103223.0</td>\n",
       "      <td>0.257115</td>\n",
       "      <td>0.099401</td>\n",
       "      <td>0.0</td>\n",
       "      <td>0.193798</td>\n",
       "      <td>0.255814</td>\n",
       "      <td>0.310078</td>\n",
       "      <td>1.0</td>\n",
       "    </tr>\n",
       "    <tr>\n",
       "      <th>...</th>\n",
       "      <td>...</td>\n",
       "      <td>...</td>\n",
       "      <td>...</td>\n",
       "      <td>...</td>\n",
       "      <td>...</td>\n",
       "      <td>...</td>\n",
       "      <td>...</td>\n",
       "      <td>...</td>\n",
       "    </tr>\n",
       "    <tr>\n",
       "      <th>WindDir3pm_SSW</th>\n",
       "      <td>103223.0</td>\n",
       "      <td>0.056422</td>\n",
       "      <td>0.230735</td>\n",
       "      <td>0.0</td>\n",
       "      <td>0.000000</td>\n",
       "      <td>0.000000</td>\n",
       "      <td>0.000000</td>\n",
       "      <td>1.0</td>\n",
       "    </tr>\n",
       "    <tr>\n",
       "      <th>WindDir3pm_SW</th>\n",
       "      <td>103223.0</td>\n",
       "      <td>0.064821</td>\n",
       "      <td>0.246211</td>\n",
       "      <td>0.0</td>\n",
       "      <td>0.000000</td>\n",
       "      <td>0.000000</td>\n",
       "      <td>0.000000</td>\n",
       "      <td>1.0</td>\n",
       "    </tr>\n",
       "    <tr>\n",
       "      <th>WindDir3pm_W</th>\n",
       "      <td>103223.0</td>\n",
       "      <td>0.069268</td>\n",
       "      <td>0.253910</td>\n",
       "      <td>0.0</td>\n",
       "      <td>0.000000</td>\n",
       "      <td>0.000000</td>\n",
       "      <td>0.000000</td>\n",
       "      <td>1.0</td>\n",
       "    </tr>\n",
       "    <tr>\n",
       "      <th>WindDir3pm_WNW</th>\n",
       "      <td>103223.0</td>\n",
       "      <td>0.063445</td>\n",
       "      <td>0.243763</td>\n",
       "      <td>0.0</td>\n",
       "      <td>0.000000</td>\n",
       "      <td>0.000000</td>\n",
       "      <td>0.000000</td>\n",
       "      <td>1.0</td>\n",
       "    </tr>\n",
       "    <tr>\n",
       "      <th>WindDir3pm_WSW</th>\n",
       "      <td>103223.0</td>\n",
       "      <td>0.064404</td>\n",
       "      <td>0.245473</td>\n",
       "      <td>0.0</td>\n",
       "      <td>0.000000</td>\n",
       "      <td>0.000000</td>\n",
       "      <td>0.000000</td>\n",
       "      <td>1.0</td>\n",
       "    </tr>\n",
       "  </tbody>\n",
       "</table>\n",
       "<p>62 rows × 8 columns</p>\n",
       "</div>"
      ],
      "text/plain": [
       "                   count      mean       std  min       25%       50%  \\\n",
       "Location        103223.0  0.335841  0.370128  0.0  0.077511  0.111692   \n",
       "MinTemp         103223.0  0.485192  0.152281  0.0  0.375297  0.477435   \n",
       "MaxTemp         103223.0  0.455356  0.155342  0.0  0.331868  0.441758   \n",
       "Rainfall        103223.0  0.006164  0.022524  0.0  0.000000  0.000000   \n",
       "WindGustSpeed   103223.0  0.257115  0.099401  0.0  0.193798  0.255814   \n",
       "...                  ...       ...       ...  ...       ...       ...   \n",
       "WindDir3pm_SSW  103223.0  0.056422  0.230735  0.0  0.000000  0.000000   \n",
       "WindDir3pm_SW   103223.0  0.064821  0.246211  0.0  0.000000  0.000000   \n",
       "WindDir3pm_W    103223.0  0.069268  0.253910  0.0  0.000000  0.000000   \n",
       "WindDir3pm_WNW  103223.0  0.063445  0.243763  0.0  0.000000  0.000000   \n",
       "WindDir3pm_WSW  103223.0  0.064404  0.245473  0.0  0.000000  0.000000   \n",
       "\n",
       "                     75%  max  \n",
       "Location        0.821827  1.0  \n",
       "MinTemp         0.591449  1.0  \n",
       "MaxTemp         0.571429  1.0  \n",
       "Rainfall        0.001632  1.0  \n",
       "WindGustSpeed   0.310078  1.0  \n",
       "...                  ...  ...  \n",
       "WindDir3pm_SSW  0.000000  1.0  \n",
       "WindDir3pm_SW   0.000000  1.0  \n",
       "WindDir3pm_W    0.000000  1.0  \n",
       "WindDir3pm_WNW  0.000000  1.0  \n",
       "WindDir3pm_WSW  0.000000  1.0  \n",
       "\n",
       "[62 rows x 8 columns]"
      ]
     },
     "execution_count": 918,
     "metadata": {},
     "output_type": "execute_result"
    }
   ],
   "source": [
    "df.describe().T"
   ]
  },
  {
   "cell_type": "code",
   "execution_count": 775,
   "metadata": {},
   "outputs": [
    {
     "data": {
      "text/plain": [
       "Sunshine          75625\n",
       "Evaporation       82670\n",
       "Cloud3pm          86102\n",
       "Cloud9am          89572\n",
       "Pressure9am      130395\n",
       "Pressure3pm      130432\n",
       "WindDir9am       134894\n",
       "WindGustDir      135134\n",
       "WindGustSpeed    135197\n",
       "Humidity3pm      140953\n",
       "WindDir3pm       141232\n",
       "Temp3pm          141851\n",
       "RainTomorrow     142193\n",
       "RainToday        142199\n",
       "Rainfall         142199\n",
       "WindSpeed3pm     142398\n",
       "Humidity9am      142806\n",
       "Temp9am          143693\n",
       "WindSpeed9am     143693\n",
       "MinTemp          143975\n",
       "MaxTemp          144199\n",
       "Location         145460\n",
       "Date             145460\n",
       "dtype: int64"
      ]
     },
     "execution_count": 775,
     "metadata": {},
     "output_type": "execute_result"
    }
   ],
   "source": [
    "df.count().sort_values()"
   ]
  },
  {
   "cell_type": "code",
   "execution_count": null,
   "metadata": {},
   "outputs": [],
   "source": []
  },
  {
   "cell_type": "markdown",
   "metadata": {},
   "source": [
    "### Vemos como van los datos nulos"
   ]
  },
  {
   "cell_type": "code",
   "execution_count": 776,
   "metadata": {},
   "outputs": [
    {
     "data": {
      "image/png": "[encoded data removed]",
      "text/plain": [
       "<Figure size 1080x720 with 1 Axes>"
      ]
     },
     "metadata": {},
     "output_type": "display_data"
    }
   ],
   "source": [
    "df.isnull().sum().plot(kind='bar', figsize=(15, 10))\n",
    "plt.show()"
   ]
  },
  {
   "cell_type": "code",
   "execution_count": 777,
   "metadata": {},
   "outputs": [
    {
     "name": "stdout",
     "output_type": "stream",
     "text": [
      "['Evaporation', 'Sunshine', 'Cloud9am', 'Cloud3pm']\n",
      "['Date', 'Location', 'MinTemp', 'MaxTemp', 'Rainfall', 'WindGustDir', 'WindGustSpeed', 'WindDir9am', 'WindDir3pm', 'WindSpeed9am', 'WindSpeed3pm', 'Humidity9am', 'Humidity3pm', 'Pressure9am', 'Pressure3pm', 'Temp9am', 'Temp3pm', 'RainToday', 'RainTomorrow']\n"
     ]
    }
   ],
   "source": [
    "columnas = np.array(df.columns)\n",
    "col_mayor_35, no_col_mayor_35 = col_mayor_35(columnas)\n",
    "print(col_mayor_35)\n",
    "print(no_col_mayor_35)"
   ]
  },
  {
   "cell_type": "code",
   "execution_count": 778,
   "metadata": {},
   "outputs": [],
   "source": [
    "# Elimino los que tengan mas del 50% de datos faltantes\n",
    "df = df.drop(columns=col_mayor_35,axis=1)"
   ]
  },
  {
   "cell_type": "code",
   "execution_count": 779,
   "metadata": {},
   "outputs": [
    {
     "data": {
      "text/html": [
       "<div>\n",
       "<style scoped>\n",
       "    .dataframe tbody tr th:only-of-type {\n",
       "        vertical-align: middle;\n",
       "    }\n",
       "\n",
       "    .dataframe tbody tr th {\n",
       "        vertical-align: top;\n",
       "    }\n",
       "\n",
       "    .dataframe thead th {\n",
       "        text-align: right;\n",
       "    }\n",
       "</style>\n",
       "<table border=\"1\" class=\"dataframe\">\n",
       "  <thead>\n",
       "    <tr style=\"text-align: right;\">\n",
       "      <th></th>\n",
       "      <th>MinTemp</th>\n",
       "      <th>MaxTemp</th>\n",
       "      <th>Rainfall</th>\n",
       "      <th>WindGustSpeed</th>\n",
       "      <th>WindSpeed9am</th>\n",
       "      <th>WindSpeed3pm</th>\n",
       "      <th>Humidity9am</th>\n",
       "      <th>Humidity3pm</th>\n",
       "      <th>Pressure9am</th>\n",
       "      <th>Pressure3pm</th>\n",
       "      <th>Temp9am</th>\n",
       "      <th>Temp3pm</th>\n",
       "    </tr>\n",
       "  </thead>\n",
       "  <tbody>\n",
       "    <tr>\n",
       "      <th>count</th>\n",
       "      <td>143975.000000</td>\n",
       "      <td>144199.000000</td>\n",
       "      <td>142199.000000</td>\n",
       "      <td>135197.000000</td>\n",
       "      <td>143693.000000</td>\n",
       "      <td>142398.000000</td>\n",
       "      <td>142806.000000</td>\n",
       "      <td>140953.000000</td>\n",
       "      <td>130395.00000</td>\n",
       "      <td>130432.000000</td>\n",
       "      <td>143693.000000</td>\n",
       "      <td>141851.00000</td>\n",
       "    </tr>\n",
       "    <tr>\n",
       "      <th>mean</th>\n",
       "      <td>12.194034</td>\n",
       "      <td>23.221348</td>\n",
       "      <td>2.360918</td>\n",
       "      <td>40.035230</td>\n",
       "      <td>14.043426</td>\n",
       "      <td>18.662657</td>\n",
       "      <td>68.880831</td>\n",
       "      <td>51.539116</td>\n",
       "      <td>1017.64994</td>\n",
       "      <td>1015.255889</td>\n",
       "      <td>16.990631</td>\n",
       "      <td>21.68339</td>\n",
       "    </tr>\n",
       "    <tr>\n",
       "      <th>std</th>\n",
       "      <td>6.398495</td>\n",
       "      <td>7.119049</td>\n",
       "      <td>8.478060</td>\n",
       "      <td>13.607062</td>\n",
       "      <td>8.915375</td>\n",
       "      <td>8.809800</td>\n",
       "      <td>19.029164</td>\n",
       "      <td>20.795902</td>\n",
       "      <td>7.10653</td>\n",
       "      <td>7.037414</td>\n",
       "      <td>6.488753</td>\n",
       "      <td>6.93665</td>\n",
       "    </tr>\n",
       "    <tr>\n",
       "      <th>min</th>\n",
       "      <td>-8.500000</td>\n",
       "      <td>-4.800000</td>\n",
       "      <td>0.000000</td>\n",
       "      <td>6.000000</td>\n",
       "      <td>0.000000</td>\n",
       "      <td>0.000000</td>\n",
       "      <td>0.000000</td>\n",
       "      <td>0.000000</td>\n",
       "      <td>980.50000</td>\n",
       "      <td>977.100000</td>\n",
       "      <td>-7.200000</td>\n",
       "      <td>-5.40000</td>\n",
       "    </tr>\n",
       "    <tr>\n",
       "      <th>25%</th>\n",
       "      <td>7.600000</td>\n",
       "      <td>17.900000</td>\n",
       "      <td>0.000000</td>\n",
       "      <td>31.000000</td>\n",
       "      <td>7.000000</td>\n",
       "      <td>13.000000</td>\n",
       "      <td>57.000000</td>\n",
       "      <td>37.000000</td>\n",
       "      <td>1012.90000</td>\n",
       "      <td>1010.400000</td>\n",
       "      <td>12.300000</td>\n",
       "      <td>16.60000</td>\n",
       "    </tr>\n",
       "    <tr>\n",
       "      <th>50%</th>\n",
       "      <td>12.000000</td>\n",
       "      <td>22.600000</td>\n",
       "      <td>0.000000</td>\n",
       "      <td>39.000000</td>\n",
       "      <td>13.000000</td>\n",
       "      <td>19.000000</td>\n",
       "      <td>70.000000</td>\n",
       "      <td>52.000000</td>\n",
       "      <td>1017.60000</td>\n",
       "      <td>1015.200000</td>\n",
       "      <td>16.700000</td>\n",
       "      <td>21.10000</td>\n",
       "    </tr>\n",
       "    <tr>\n",
       "      <th>75%</th>\n",
       "      <td>16.900000</td>\n",
       "      <td>28.200000</td>\n",
       "      <td>0.800000</td>\n",
       "      <td>48.000000</td>\n",
       "      <td>19.000000</td>\n",
       "      <td>24.000000</td>\n",
       "      <td>83.000000</td>\n",
       "      <td>66.000000</td>\n",
       "      <td>1022.40000</td>\n",
       "      <td>1020.000000</td>\n",
       "      <td>21.600000</td>\n",
       "      <td>26.40000</td>\n",
       "    </tr>\n",
       "    <tr>\n",
       "      <th>max</th>\n",
       "      <td>33.900000</td>\n",
       "      <td>48.100000</td>\n",
       "      <td>371.000000</td>\n",
       "      <td>135.000000</td>\n",
       "      <td>130.000000</td>\n",
       "      <td>87.000000</td>\n",
       "      <td>100.000000</td>\n",
       "      <td>100.000000</td>\n",
       "      <td>1041.00000</td>\n",
       "      <td>1039.600000</td>\n",
       "      <td>40.200000</td>\n",
       "      <td>46.70000</td>\n",
       "    </tr>\n",
       "  </tbody>\n",
       "</table>\n",
       "</div>"
      ],
      "text/plain": [
       "             MinTemp        MaxTemp       Rainfall  WindGustSpeed  \\\n",
       "count  143975.000000  144199.000000  142199.000000  135197.000000   \n",
       "mean       12.194034      23.221348       2.360918      40.035230   \n",
       "std         6.398495       7.119049       8.478060      13.607062   \n",
       "min        -8.500000      -4.800000       0.000000       6.000000   \n",
       "25%         7.600000      17.900000       0.000000      31.000000   \n",
       "50%        12.000000      22.600000       0.000000      39.000000   \n",
       "75%        16.900000      28.200000       0.800000      48.000000   \n",
       "max        33.900000      48.100000     371.000000     135.000000   \n",
       "\n",
       "        WindSpeed9am   WindSpeed3pm    Humidity9am    Humidity3pm  \\\n",
       "count  143693.000000  142398.000000  142806.000000  140953.000000   \n",
       "mean       14.043426      18.662657      68.880831      51.539116   \n",
       "std         8.915375       8.809800      19.029164      20.795902   \n",
       "min         0.000000       0.000000       0.000000       0.000000   \n",
       "25%         7.000000      13.000000      57.000000      37.000000   \n",
       "50%        13.000000      19.000000      70.000000      52.000000   \n",
       "75%        19.000000      24.000000      83.000000      66.000000   \n",
       "max       130.000000      87.000000     100.000000     100.000000   \n",
       "\n",
       "        Pressure9am    Pressure3pm        Temp9am       Temp3pm  \n",
       "count  130395.00000  130432.000000  143693.000000  141851.00000  \n",
       "mean     1017.64994    1015.255889      16.990631      21.68339  \n",
       "std         7.10653       7.037414       6.488753       6.93665  \n",
       "min       980.50000     977.100000      -7.200000      -5.40000  \n",
       "25%      1012.90000    1010.400000      12.300000      16.60000  \n",
       "50%      1017.60000    1015.200000      16.700000      21.10000  \n",
       "75%      1022.40000    1020.000000      21.600000      26.40000  \n",
       "max      1041.00000    1039.600000      40.200000      46.70000  "
      ]
     },
     "execution_count": 779,
     "metadata": {},
     "output_type": "execute_result"
    }
   ],
   "source": [
    "df.describe()"
   ]
  },
  {
   "cell_type": "code",
   "execution_count": 780,
   "metadata": {},
   "outputs": [
    {
     "data": {
      "text/plain": [
       "<AxesSubplot:>"
      ]
     },
     "execution_count": 780,
     "metadata": {},
     "output_type": "execute_result"
    },
    {
     "data": {
      "image/png": "[encoded data removed]",
      "text/plain": [
       "<Figure size 936x504 with 2 Axes>"
      ]
     },
     "metadata": {},
     "output_type": "display_data"
    }
   ],
   "source": [
    "plt.figure(figsize=(13,7))\n",
    "\n",
    "sns.heatmap(df.corr(),annot=True)"
   ]
  },
  {
   "cell_type": "markdown",
   "metadata": {},
   "source": [
    "###  Vemos a detalle las variables categoricas"
   ]
  },
  {
   "cell_type": "code",
   "execution_count": 781,
   "metadata": {},
   "outputs": [],
   "source": [
    "col_categorical = [var for var in df.columns if df[var].dtype=='O']"
   ]
  },
  {
   "cell_type": "code",
   "execution_count": 782,
   "metadata": {},
   "outputs": [
    {
     "data": {
      "text/plain": [
       "['Date',\n",
       " 'Location',\n",
       " 'WindGustDir',\n",
       " 'WindDir9am',\n",
       " 'WindDir3pm',\n",
       " 'RainToday',\n",
       " 'RainTomorrow']"
      ]
     },
     "execution_count": 782,
     "metadata": {},
     "output_type": "execute_result"
    }
   ],
   "source": [
    "col_categorical"
   ]
  },
  {
   "cell_type": "code",
   "execution_count": 783,
   "metadata": {},
   "outputs": [
    {
     "name": "stdout",
     "output_type": "stream",
     "text": [
      "Date: 3436 etiquetas\n",
      "Location: 49 etiquetas\n",
      "WindGustDir: 17 etiquetas\n",
      "WindDir9am: 17 etiquetas\n",
      "WindDir3pm: 17 etiquetas\n",
      "RainToday: 3 etiquetas\n",
      "RainTomorrow: 3 etiquetas\n"
     ]
    }
   ],
   "source": [
    "# Reviamos la cardinalidad de las columnas categoricas\n",
    "for i in col_categorical:\n",
    "    print(f\"{i}: {len(df[i].unique())} etiquetas\")"
   ]
  },
  {
   "cell_type": "markdown",
   "metadata": {},
   "source": [
    "Vemos que Date tiene una gran cardinalidad, lo cual puede ocasionar problemas posteriores."
   ]
  },
  {
   "cell_type": "code",
   "execution_count": 784,
   "metadata": {},
   "outputs": [
    {
     "data": {
      "text/plain": [
       "0    2008-12-01\n",
       "1    2008-12-02\n",
       "2    2008-12-03\n",
       "3    2008-12-04\n",
       "4    2008-12-05\n",
       "Name: Date, dtype: object"
      ]
     },
     "execution_count": 784,
     "metadata": {},
     "output_type": "execute_result"
    }
   ],
   "source": [
    "df[\"Date\"].head()"
   ]
  },
  {
   "cell_type": "markdown",
   "metadata": {},
   "source": [
    "Al momento de predecir si llueve o no seria más sencillo tratar la columna en base al mes. "
   ]
  },
  {
   "cell_type": "code",
   "execution_count": 785,
   "metadata": {},
   "outputs": [],
   "source": [
    "df['Date'] = pd.to_datetime(df['Date'])\n",
    "df['Month'] = df['Date'].dt.month"
   ]
  },
  {
   "cell_type": "markdown",
   "metadata": {},
   "source": [
    "Incoporamos la columna month y eliminamos Date"
   ]
  },
  {
   "cell_type": "code",
   "execution_count": 786,
   "metadata": {},
   "outputs": [],
   "source": [
    "df.drop('Date', axis=1, inplace = True)"
   ]
  },
  {
   "cell_type": "markdown",
   "metadata": {},
   "source": [
    "La segunda columna con mayor cardinalidad es Location"
   ]
  },
  {
   "cell_type": "code",
   "execution_count": 787,
   "metadata": {},
   "outputs": [
    {
     "data": {
      "text/plain": [
       "<bound method NDFrame.head of 0         Albury\n",
       "1         Albury\n",
       "2         Albury\n",
       "3         Albury\n",
       "4         Albury\n",
       "           ...  \n",
       "145455     Uluru\n",
       "145456     Uluru\n",
       "145457     Uluru\n",
       "145458     Uluru\n",
       "145459     Uluru\n",
       "Name: Location, Length: 145460, dtype: object>"
      ]
     },
     "execution_count": 787,
     "metadata": {},
     "output_type": "execute_result"
    }
   ],
   "source": [
    "df[\"Location\"].head"
   ]
  },
  {
   "cell_type": "code",
   "execution_count": 788,
   "metadata": {},
   "outputs": [
    {
     "name": "stdout",
     "output_type": "stream",
     "text": [
      "['Albury' 'BadgerysCreek' 'Cobar' 'CoffsHarbour' 'Moree' 'Newcastle'\n",
      " 'NorahHead' 'NorfolkIsland' 'Penrith' 'Richmond' 'Sydney' 'SydneyAirport'\n",
      " 'WaggaWagga' 'Williamtown' 'Wollongong' 'Canberra' 'Tuggeranong'\n",
      " 'MountGinini' 'Ballarat' 'Bendigo' 'Sale' 'MelbourneAirport' 'Melbourne'\n",
      " 'Mildura' 'Nhil' 'Portland' 'Watsonia' 'Dartmoor' 'Brisbane' 'Cairns'\n",
      " 'GoldCoast' 'Townsville' 'Adelaide' 'MountGambier' 'Nuriootpa' 'Woomera'\n",
      " 'Albany' 'Witchcliffe' 'PearceRAAF' 'PerthAirport' 'Perth' 'SalmonGums'\n",
      " 'Walpole' 'Hobart' 'Launceston' 'AliceSprings' 'Darwin' 'Katherine'\n",
      " 'Uluru']\n"
     ]
    }
   ],
   "source": [
    "from geopy.geocoders import Nominatim\n",
    "\"\"\"\n",
    "df['gcode'] = df.Location.apply(geolocator.geocode)\n",
    "df['lat'] = [g.latitude for g in df.gcode]\n",
    "df['long'] = [g.longitude for g in df.gcode]\n",
    "\"\"\"\n",
    "locations = df[\"Location\"].unique()\n",
    "print(locations)"
   ]
  },
  {
   "cell_type": "markdown",
   "metadata": {},
   "source": [
    "Separamos las palabras que estan unidas"
   ]
  },
  {
   "cell_type": "code",
   "execution_count": 789,
   "metadata": {},
   "outputs": [],
   "source": [
    "locations_pro = []\n",
    "for i in locations:\n",
    "    locations_pro.append(camel_case_split(i))"
   ]
  },
  {
   "cell_type": "code",
   "execution_count": 790,
   "metadata": {},
   "outputs": [],
   "source": [
    "df_locations = pd.DataFrame({'Locations':locations_pro})"
   ]
  },
  {
   "cell_type": "code",
   "execution_count": 791,
   "metadata": {},
   "outputs": [
    {
     "data": {
      "text/html": [
       "<div>\n",
       "<style scoped>\n",
       "    .dataframe tbody tr th:only-of-type {\n",
       "        vertical-align: middle;\n",
       "    }\n",
       "\n",
       "    .dataframe tbody tr th {\n",
       "        vertical-align: top;\n",
       "    }\n",
       "\n",
       "    .dataframe thead th {\n",
       "        text-align: right;\n",
       "    }\n",
       "</style>\n",
       "<table border=\"1\" class=\"dataframe\">\n",
       "  <thead>\n",
       "    <tr style=\"text-align: right;\">\n",
       "      <th></th>\n",
       "      <th>Locations</th>\n",
       "    </tr>\n",
       "  </thead>\n",
       "  <tbody>\n",
       "    <tr>\n",
       "      <th>0</th>\n",
       "      <td>Albury</td>\n",
       "    </tr>\n",
       "    <tr>\n",
       "      <th>1</th>\n",
       "      <td>Badgerys Creek</td>\n",
       "    </tr>\n",
       "    <tr>\n",
       "      <th>2</th>\n",
       "      <td>Cobar</td>\n",
       "    </tr>\n",
       "    <tr>\n",
       "      <th>3</th>\n",
       "      <td>Coffs Harbour</td>\n",
       "    </tr>\n",
       "    <tr>\n",
       "      <th>4</th>\n",
       "      <td>Moree</td>\n",
       "    </tr>\n",
       "  </tbody>\n",
       "</table>\n",
       "</div>"
      ],
      "text/plain": [
       "        Locations\n",
       "0          Albury\n",
       "1  Badgerys Creek\n",
       "2           Cobar\n",
       "3   Coffs Harbour\n",
       "4           Moree"
      ]
     },
     "execution_count": 791,
     "metadata": {},
     "output_type": "execute_result"
    }
   ],
   "source": [
    "df_locations.head()"
   ]
  },
  {
   "cell_type": "code",
   "execution_count": 792,
   "metadata": {},
   "outputs": [],
   "source": [
    "df_locations['gcode'] = df_locations.Locations.apply(geolocator.geocode)\n",
    "df_locations['lat'] = [g.latitude for g in df_locations.gcode]\n",
    "df_locations['long'] = [g.longitude for g in df_locations.gcode]"
   ]
  },
  {
   "cell_type": "code",
   "execution_count": 793,
   "metadata": {},
   "outputs": [
    {
     "data": {
      "text/html": [
       "<div>\n",
       "<style scoped>\n",
       "    .dataframe tbody tr th:only-of-type {\n",
       "        vertical-align: middle;\n",
       "    }\n",
       "\n",
       "    .dataframe tbody tr th {\n",
       "        vertical-align: top;\n",
       "    }\n",
       "\n",
       "    .dataframe thead th {\n",
       "        text-align: right;\n",
       "    }\n",
       "</style>\n",
       "<table border=\"1\" class=\"dataframe\">\n",
       "  <thead>\n",
       "    <tr style=\"text-align: right;\">\n",
       "      <th></th>\n",
       "      <th>Locations</th>\n",
       "      <th>gcode</th>\n",
       "      <th>lat</th>\n",
       "      <th>long</th>\n",
       "    </tr>\n",
       "  </thead>\n",
       "  <tbody>\n",
       "    <tr>\n",
       "      <th>0</th>\n",
       "      <td>Albury</td>\n",
       "      <td>(Albury, Albury City Council, New South Wales,...</td>\n",
       "      <td>-36.080477</td>\n",
       "      <td>146.916280</td>\n",
       "    </tr>\n",
       "    <tr>\n",
       "      <th>1</th>\n",
       "      <td>Badgerys Creek</td>\n",
       "      <td>(Badgerys Creek, Sydney, Liverpool City Counci...</td>\n",
       "      <td>-33.881667</td>\n",
       "      <td>150.744163</td>\n",
       "    </tr>\n",
       "    <tr>\n",
       "      <th>2</th>\n",
       "      <td>Cobar</td>\n",
       "      <td>(Cobar, Cobar Shire Council, New South Wales, ...</td>\n",
       "      <td>-31.498333</td>\n",
       "      <td>145.834444</td>\n",
       "    </tr>\n",
       "    <tr>\n",
       "      <th>3</th>\n",
       "      <td>Coffs Harbour</td>\n",
       "      <td>(Coffs Harbour, Coffs Harbour City Council, Ne...</td>\n",
       "      <td>-30.296241</td>\n",
       "      <td>153.113529</td>\n",
       "    </tr>\n",
       "    <tr>\n",
       "      <th>4</th>\n",
       "      <td>Moree</td>\n",
       "      <td>(Morée, Vendôme, Loir-et-Cher, Centre-Val de L...</td>\n",
       "      <td>47.901594</td>\n",
       "      <td>1.237803</td>\n",
       "    </tr>\n",
       "    <tr>\n",
       "      <th>5</th>\n",
       "      <td>Newcastle</td>\n",
       "      <td>(Newcastle upon Tyne, Tyne and Wear, North Eas...</td>\n",
       "      <td>54.973847</td>\n",
       "      <td>-1.613157</td>\n",
       "    </tr>\n",
       "    <tr>\n",
       "      <th>6</th>\n",
       "      <td>Norah Head</td>\n",
       "      <td>(Norah Head, Central Coast Council, New South ...</td>\n",
       "      <td>-33.281667</td>\n",
       "      <td>151.567778</td>\n",
       "    </tr>\n",
       "    <tr>\n",
       "      <th>7</th>\n",
       "      <td>Norfolk Island</td>\n",
       "      <td>(Norfolk Island, Burnt Pine, Norfolk Island, 2...</td>\n",
       "      <td>-29.028958</td>\n",
       "      <td>167.958729</td>\n",
       "    </tr>\n",
       "    <tr>\n",
       "      <th>8</th>\n",
       "      <td>Penrith</td>\n",
       "      <td>(Penrith, Eden, Cumbria, North West England, E...</td>\n",
       "      <td>54.663913</td>\n",
       "      <td>-2.752205</td>\n",
       "    </tr>\n",
       "    <tr>\n",
       "      <th>9</th>\n",
       "      <td>Richmond</td>\n",
       "      <td>(Richmond, Virginia, United States, (37.538508...</td>\n",
       "      <td>37.538509</td>\n",
       "      <td>-77.434280</td>\n",
       "    </tr>\n",
       "    <tr>\n",
       "      <th>10</th>\n",
       "      <td>Sydney</td>\n",
       "      <td>(Sydney, New South Wales, Australia, (-33.8548...</td>\n",
       "      <td>-33.854816</td>\n",
       "      <td>151.216454</td>\n",
       "    </tr>\n",
       "    <tr>\n",
       "      <th>11</th>\n",
       "      <td>Sydney Airport</td>\n",
       "      <td>(Sydney Airport, Wentworth Avenue, Mascot, Syd...</td>\n",
       "      <td>-33.949894</td>\n",
       "      <td>151.181968</td>\n",
       "    </tr>\n",
       "    <tr>\n",
       "      <th>12</th>\n",
       "      <td>Wagga Wagga</td>\n",
       "      <td>(Wagga Wagga City Council, New South Wales, Au...</td>\n",
       "      <td>-35.115000</td>\n",
       "      <td>147.367778</td>\n",
       "    </tr>\n",
       "    <tr>\n",
       "      <th>13</th>\n",
       "      <td>Williamtown</td>\n",
       "      <td>(Williamtown, Port Stephens Council, New South...</td>\n",
       "      <td>-32.815000</td>\n",
       "      <td>151.842778</td>\n",
       "    </tr>\n",
       "    <tr>\n",
       "      <th>14</th>\n",
       "      <td>Wollongong</td>\n",
       "      <td>(Wollongong City Council, New South Wales, Aus...</td>\n",
       "      <td>-34.424394</td>\n",
       "      <td>150.893850</td>\n",
       "    </tr>\n",
       "    <tr>\n",
       "      <th>15</th>\n",
       "      <td>Canberra</td>\n",
       "      <td>(Canberra, District of Canberra Central, Austr...</td>\n",
       "      <td>-35.297591</td>\n",
       "      <td>149.101268</td>\n",
       "    </tr>\n",
       "    <tr>\n",
       "      <th>16</th>\n",
       "      <td>Tuggeranong</td>\n",
       "      <td>(District of Tuggeranong, Australian Capital T...</td>\n",
       "      <td>-35.420977</td>\n",
       "      <td>149.092134</td>\n",
       "    </tr>\n",
       "    <tr>\n",
       "      <th>17</th>\n",
       "      <td>Mount Ginini</td>\n",
       "      <td>(Mount Ginini, Australian Capital Territory, A...</td>\n",
       "      <td>-35.529720</td>\n",
       "      <td>148.772635</td>\n",
       "    </tr>\n",
       "    <tr>\n",
       "      <th>18</th>\n",
       "      <td>Ballarat</td>\n",
       "      <td>(Ballarat, City of Ballarat, Victoria, 3350, A...</td>\n",
       "      <td>-37.562263</td>\n",
       "      <td>143.860722</td>\n",
       "    </tr>\n",
       "    <tr>\n",
       "      <th>19</th>\n",
       "      <td>Bendigo</td>\n",
       "      <td>(Bendigo, City of Greater Bendigo, Victoria, 3...</td>\n",
       "      <td>-36.758877</td>\n",
       "      <td>144.282593</td>\n",
       "    </tr>\n",
       "    <tr>\n",
       "      <th>20</th>\n",
       "      <td>Sale</td>\n",
       "      <td>(Sale, Alessandria, Piemonte, Italia, (44.9806...</td>\n",
       "      <td>44.980656</td>\n",
       "      <td>8.809348</td>\n",
       "    </tr>\n",
       "    <tr>\n",
       "      <th>21</th>\n",
       "      <td>Melbourne Airport</td>\n",
       "      <td>(Melbourne Airport, Kiuna Road, Keilor North, ...</td>\n",
       "      <td>-37.667111</td>\n",
       "      <td>144.833481</td>\n",
       "    </tr>\n",
       "    <tr>\n",
       "      <th>22</th>\n",
       "      <td>Melbourne</td>\n",
       "      <td>(Melbourne, City of Melbourne, Victoria, Austr...</td>\n",
       "      <td>-37.814218</td>\n",
       "      <td>144.963161</td>\n",
       "    </tr>\n",
       "    <tr>\n",
       "      <th>23</th>\n",
       "      <td>Mildura</td>\n",
       "      <td>(Mildura, Rural City of Mildura, Victoria, Aus...</td>\n",
       "      <td>-34.184726</td>\n",
       "      <td>142.162497</td>\n",
       "    </tr>\n",
       "    <tr>\n",
       "      <th>24</th>\n",
       "      <td>Nhil</td>\n",
       "      <td>(Robert-Nhil-Straße, St. Georg, Hamburg-Mitte,...</td>\n",
       "      <td>53.553726</td>\n",
       "      <td>10.009773</td>\n",
       "    </tr>\n",
       "    <tr>\n",
       "      <th>25</th>\n",
       "      <td>Portland</td>\n",
       "      <td>(Portland, Multnomah County, Oregon, United St...</td>\n",
       "      <td>45.520247</td>\n",
       "      <td>-122.674195</td>\n",
       "    </tr>\n",
       "    <tr>\n",
       "      <th>26</th>\n",
       "      <td>Watsonia</td>\n",
       "      <td>(Watsonia, Ibbottson Street, Watsonia, Watsoni...</td>\n",
       "      <td>-37.711002</td>\n",
       "      <td>145.083635</td>\n",
       "    </tr>\n",
       "    <tr>\n",
       "      <th>27</th>\n",
       "      <td>Dartmoor</td>\n",
       "      <td>(Dartmoor National Park, Devon, South West Eng...</td>\n",
       "      <td>50.565737</td>\n",
       "      <td>-3.900973</td>\n",
       "    </tr>\n",
       "    <tr>\n",
       "      <th>28</th>\n",
       "      <td>Brisbane</td>\n",
       "      <td>(Brisbane City, Queensland, Australia, (-27.46...</td>\n",
       "      <td>-27.468968</td>\n",
       "      <td>153.023499</td>\n",
       "    </tr>\n",
       "    <tr>\n",
       "      <th>29</th>\n",
       "      <td>Cairns</td>\n",
       "      <td>(Cairns, Cairns Regional, Queensland, 4870, Au...</td>\n",
       "      <td>-16.920666</td>\n",
       "      <td>145.772185</td>\n",
       "    </tr>\n",
       "    <tr>\n",
       "      <th>30</th>\n",
       "      <td>Gold Coast</td>\n",
       "      <td>(Gold Coast City, Queensland, Australia, (-28....</td>\n",
       "      <td>-28.002373</td>\n",
       "      <td>153.414599</td>\n",
       "    </tr>\n",
       "    <tr>\n",
       "      <th>31</th>\n",
       "      <td>Townsville</td>\n",
       "      <td>(Townsville, Townsville City, Queensland, 4810...</td>\n",
       "      <td>-19.256939</td>\n",
       "      <td>146.823954</td>\n",
       "    </tr>\n",
       "    <tr>\n",
       "      <th>32</th>\n",
       "      <td>Adelaide</td>\n",
       "      <td>(Adelaide, Adelaide City Council, South Austra...</td>\n",
       "      <td>-34.928181</td>\n",
       "      <td>138.599931</td>\n",
       "    </tr>\n",
       "    <tr>\n",
       "      <th>33</th>\n",
       "      <td>Mount Gambier</td>\n",
       "      <td>(City of Mount Gambier, South Australia, 5290,...</td>\n",
       "      <td>-37.824670</td>\n",
       "      <td>140.782007</td>\n",
       "    </tr>\n",
       "    <tr>\n",
       "      <th>34</th>\n",
       "      <td>Nuriootpa</td>\n",
       "      <td>(Nuriootpa, The Barossa Council, South Austral...</td>\n",
       "      <td>-34.469335</td>\n",
       "      <td>138.993901</td>\n",
       "    </tr>\n",
       "    <tr>\n",
       "      <th>35</th>\n",
       "      <td>Woomera</td>\n",
       "      <td>(Woomera, Pastoral Unincorporated Area, South ...</td>\n",
       "      <td>-31.199914</td>\n",
       "      <td>136.825353</td>\n",
       "    </tr>\n",
       "    <tr>\n",
       "      <th>36</th>\n",
       "      <td>Albany</td>\n",
       "      <td>(Albany, Albany County, New York, 12207, Unite...</td>\n",
       "      <td>42.651167</td>\n",
       "      <td>-73.754968</td>\n",
       "    </tr>\n",
       "    <tr>\n",
       "      <th>37</th>\n",
       "      <td>Witchcliffe</td>\n",
       "      <td>(Witchcliffe, Shire Of Augusta Margaret River,...</td>\n",
       "      <td>-34.026335</td>\n",
       "      <td>115.100477</td>\n",
       "    </tr>\n",
       "    <tr>\n",
       "      <th>38</th>\n",
       "      <td>Pearce RAAF</td>\n",
       "      <td>(RAAF Base Pearce, Frigate Way, Bullsbrook, Ci...</td>\n",
       "      <td>-31.673960</td>\n",
       "      <td>116.017544</td>\n",
       "    </tr>\n",
       "    <tr>\n",
       "      <th>39</th>\n",
       "      <td>Perth Airport</td>\n",
       "      <td>(Perth Airport, Vidler Street, Kewdale, Clover...</td>\n",
       "      <td>-31.940610</td>\n",
       "      <td>115.967608</td>\n",
       "    </tr>\n",
       "    <tr>\n",
       "      <th>40</th>\n",
       "      <td>Perth</td>\n",
       "      <td>(Perth, City of Perth, Western Australia, 6000...</td>\n",
       "      <td>-31.952712</td>\n",
       "      <td>115.860480</td>\n",
       "    </tr>\n",
       "    <tr>\n",
       "      <th>41</th>\n",
       "      <td>Salmon Gums</td>\n",
       "      <td>(Salmon Gums, Shire Of Esperance, Western Aust...</td>\n",
       "      <td>-32.981535</td>\n",
       "      <td>121.643942</td>\n",
       "    </tr>\n",
       "    <tr>\n",
       "      <th>42</th>\n",
       "      <td>Walpole</td>\n",
       "      <td>(Walpole, Norfolk County, Massachusetts, Unite...</td>\n",
       "      <td>42.141765</td>\n",
       "      <td>-71.249499</td>\n",
       "    </tr>\n",
       "    <tr>\n",
       "      <th>43</th>\n",
       "      <td>Hobart</td>\n",
       "      <td>(Hobart, City of Hobart, Tasmania, Australia, ...</td>\n",
       "      <td>-42.882509</td>\n",
       "      <td>147.328123</td>\n",
       "    </tr>\n",
       "    <tr>\n",
       "      <th>44</th>\n",
       "      <td>Launceston</td>\n",
       "      <td>(Launceston, City of Launceston, Tasmania, 725...</td>\n",
       "      <td>-41.434081</td>\n",
       "      <td>147.137350</td>\n",
       "    </tr>\n",
       "    <tr>\n",
       "      <th>45</th>\n",
       "      <td>Alice Springs</td>\n",
       "      <td>(Alice Springs, Town of Alice Springs, Norther...</td>\n",
       "      <td>-23.698388</td>\n",
       "      <td>133.881289</td>\n",
       "    </tr>\n",
       "    <tr>\n",
       "      <th>46</th>\n",
       "      <td>Darwin</td>\n",
       "      <td>(Darwin, City of Darwin, Northern Territory, 0...</td>\n",
       "      <td>-12.460440</td>\n",
       "      <td>130.841047</td>\n",
       "    </tr>\n",
       "    <tr>\n",
       "      <th>47</th>\n",
       "      <td>Katherine</td>\n",
       "      <td>(Katherine, Town of Katherine, Northern Territ...</td>\n",
       "      <td>-14.464231</td>\n",
       "      <td>132.263857</td>\n",
       "    </tr>\n",
       "    <tr>\n",
       "      <th>48</th>\n",
       "      <td>Uluru</td>\n",
       "      <td>(Uluṟu, Macdonnell Region, Northern Territory,...</td>\n",
       "      <td>-25.344857</td>\n",
       "      <td>131.032517</td>\n",
       "    </tr>\n",
       "  </tbody>\n",
       "</table>\n",
       "</div>"
      ],
      "text/plain": [
       "            Locations                                              gcode  \\\n",
       "0              Albury  (Albury, Albury City Council, New South Wales,...   \n",
       "1      Badgerys Creek  (Badgerys Creek, Sydney, Liverpool City Counci...   \n",
       "2               Cobar  (Cobar, Cobar Shire Council, New South Wales, ...   \n",
       "3       Coffs Harbour  (Coffs Harbour, Coffs Harbour City Council, Ne...   \n",
       "4               Moree  (Morée, Vendôme, Loir-et-Cher, Centre-Val de L...   \n",
       "5           Newcastle  (Newcastle upon Tyne, Tyne and Wear, North Eas...   \n",
       "6          Norah Head  (Norah Head, Central Coast Council, New South ...   \n",
       "7      Norfolk Island  (Norfolk Island, Burnt Pine, Norfolk Island, 2...   \n",
       "8             Penrith  (Penrith, Eden, Cumbria, North West England, E...   \n",
       "9            Richmond  (Richmond, Virginia, United States, (37.538508...   \n",
       "10             Sydney  (Sydney, New South Wales, Australia, (-33.8548...   \n",
       "11     Sydney Airport  (Sydney Airport, Wentworth Avenue, Mascot, Syd...   \n",
       "12        Wagga Wagga  (Wagga Wagga City Council, New South Wales, Au...   \n",
       "13        Williamtown  (Williamtown, Port Stephens Council, New South...   \n",
       "14         Wollongong  (Wollongong City Council, New South Wales, Aus...   \n",
       "15           Canberra  (Canberra, District of Canberra Central, Austr...   \n",
       "16        Tuggeranong  (District of Tuggeranong, Australian Capital T...   \n",
       "17       Mount Ginini  (Mount Ginini, Australian Capital Territory, A...   \n",
       "18           Ballarat  (Ballarat, City of Ballarat, Victoria, 3350, A...   \n",
       "19            Bendigo  (Bendigo, City of Greater Bendigo, Victoria, 3...   \n",
       "20               Sale  (Sale, Alessandria, Piemonte, Italia, (44.9806...   \n",
       "21  Melbourne Airport  (Melbourne Airport, Kiuna Road, Keilor North, ...   \n",
       "22          Melbourne  (Melbourne, City of Melbourne, Victoria, Austr...   \n",
       "23            Mildura  (Mildura, Rural City of Mildura, Victoria, Aus...   \n",
       "24               Nhil  (Robert-Nhil-Straße, St. Georg, Hamburg-Mitte,...   \n",
       "25           Portland  (Portland, Multnomah County, Oregon, United St...   \n",
       "26           Watsonia  (Watsonia, Ibbottson Street, Watsonia, Watsoni...   \n",
       "27           Dartmoor  (Dartmoor National Park, Devon, South West Eng...   \n",
       "28           Brisbane  (Brisbane City, Queensland, Australia, (-27.46...   \n",
       "29             Cairns  (Cairns, Cairns Regional, Queensland, 4870, Au...   \n",
       "30         Gold Coast  (Gold Coast City, Queensland, Australia, (-28....   \n",
       "31         Townsville  (Townsville, Townsville City, Queensland, 4810...   \n",
       "32           Adelaide  (Adelaide, Adelaide City Council, South Austra...   \n",
       "33      Mount Gambier  (City of Mount Gambier, South Australia, 5290,...   \n",
       "34          Nuriootpa  (Nuriootpa, The Barossa Council, South Austral...   \n",
       "35            Woomera  (Woomera, Pastoral Unincorporated Area, South ...   \n",
       "36             Albany  (Albany, Albany County, New York, 12207, Unite...   \n",
       "37        Witchcliffe  (Witchcliffe, Shire Of Augusta Margaret River,...   \n",
       "38        Pearce RAAF  (RAAF Base Pearce, Frigate Way, Bullsbrook, Ci...   \n",
       "39      Perth Airport  (Perth Airport, Vidler Street, Kewdale, Clover...   \n",
       "40              Perth  (Perth, City of Perth, Western Australia, 6000...   \n",
       "41        Salmon Gums  (Salmon Gums, Shire Of Esperance, Western Aust...   \n",
       "42            Walpole  (Walpole, Norfolk County, Massachusetts, Unite...   \n",
       "43             Hobart  (Hobart, City of Hobart, Tasmania, Australia, ...   \n",
       "44         Launceston  (Launceston, City of Launceston, Tasmania, 725...   \n",
       "45      Alice Springs  (Alice Springs, Town of Alice Springs, Norther...   \n",
       "46             Darwin  (Darwin, City of Darwin, Northern Territory, 0...   \n",
       "47          Katherine  (Katherine, Town of Katherine, Northern Territ...   \n",
       "48              Uluru  (Uluṟu, Macdonnell Region, Northern Territory,...   \n",
       "\n",
       "          lat        long  \n",
       "0  -36.080477  146.916280  \n",
       "1  -33.881667  150.744163  \n",
       "2  -31.498333  145.834444  \n",
       "3  -30.296241  153.113529  \n",
       "4   47.901594    1.237803  \n",
       "5   54.973847   -1.613157  \n",
       "6  -33.281667  151.567778  \n",
       "7  -29.028958  167.958729  \n",
       "8   54.663913   -2.752205  \n",
       "9   37.538509  -77.434280  \n",
       "10 -33.854816  151.216454  \n",
       "11 -33.949894  151.181968  \n",
       "12 -35.115000  147.367778  \n",
       "13 -32.815000  151.842778  \n",
       "14 -34.424394  150.893850  \n",
       "15 -35.297591  149.101268  \n",
       "16 -35.420977  149.092134  \n",
       "17 -35.529720  148.772635  \n",
       "18 -37.562263  143.860722  \n",
       "19 -36.758877  144.282593  \n",
       "20  44.980656    8.809348  \n",
       "21 -37.667111  144.833481  \n",
       "22 -37.814218  144.963161  \n",
       "23 -34.184726  142.162497  \n",
       "24  53.553726   10.009773  \n",
       "25  45.520247 -122.674195  \n",
       "26 -37.711002  145.083635  \n",
       "27  50.565737   -3.900973  \n",
       "28 -27.468968  153.023499  \n",
       "29 -16.920666  145.772185  \n",
       "30 -28.002373  153.414599  \n",
       "31 -19.256939  146.823954  \n",
       "32 -34.928181  138.599931  \n",
       "33 -37.824670  140.782007  \n",
       "34 -34.469335  138.993901  \n",
       "35 -31.199914  136.825353  \n",
       "36  42.651167  -73.754968  \n",
       "37 -34.026335  115.100477  \n",
       "38 -31.673960  116.017544  \n",
       "39 -31.940610  115.967608  \n",
       "40 -31.952712  115.860480  \n",
       "41 -32.981535  121.643942  \n",
       "42  42.141765  -71.249499  \n",
       "43 -42.882509  147.328123  \n",
       "44 -41.434081  147.137350  \n",
       "45 -23.698388  133.881289  \n",
       "46 -12.460440  130.841047  \n",
       "47 -14.464231  132.263857  \n",
       "48 -25.344857  131.032517  "
      ]
     },
     "execution_count": 793,
     "metadata": {},
     "output_type": "execute_result"
    }
   ],
   "source": [
    "df_locations"
   ]
  },
  {
   "cell_type": "code",
   "execution_count": 794,
   "metadata": {},
   "outputs": [],
   "source": [
    "df_loc_name = pd.DataFrame({'Location':locations_pro})"
   ]
  },
  {
   "cell_type": "code",
   "execution_count": 795,
   "metadata": {},
   "outputs": [
    {
     "data": {
      "text/html": [
       "<div>\n",
       "<style scoped>\n",
       "    .dataframe tbody tr th:only-of-type {\n",
       "        vertical-align: middle;\n",
       "    }\n",
       "\n",
       "    .dataframe tbody tr th {\n",
       "        vertical-align: top;\n",
       "    }\n",
       "\n",
       "    .dataframe thead th {\n",
       "        text-align: right;\n",
       "    }\n",
       "</style>\n",
       "<table border=\"1\" class=\"dataframe\">\n",
       "  <thead>\n",
       "    <tr style=\"text-align: right;\">\n",
       "      <th></th>\n",
       "      <th>Location</th>\n",
       "    </tr>\n",
       "  </thead>\n",
       "  <tbody>\n",
       "    <tr>\n",
       "      <th>0</th>\n",
       "      <td>Albury</td>\n",
       "    </tr>\n",
       "    <tr>\n",
       "      <th>1</th>\n",
       "      <td>Badgerys Creek</td>\n",
       "    </tr>\n",
       "    <tr>\n",
       "      <th>2</th>\n",
       "      <td>Cobar</td>\n",
       "    </tr>\n",
       "    <tr>\n",
       "      <th>3</th>\n",
       "      <td>Coffs Harbour</td>\n",
       "    </tr>\n",
       "    <tr>\n",
       "      <th>4</th>\n",
       "      <td>Moree</td>\n",
       "    </tr>\n",
       "  </tbody>\n",
       "</table>\n",
       "</div>"
      ],
      "text/plain": [
       "         Location\n",
       "0          Albury\n",
       "1  Badgerys Creek\n",
       "2           Cobar\n",
       "3   Coffs Harbour\n",
       "4           Moree"
      ]
     },
     "execution_count": 795,
     "metadata": {},
     "output_type": "execute_result"
    }
   ],
   "source": [
    "df_loc_name.head()"
   ]
  },
  {
   "cell_type": "code",
   "execution_count": 796,
   "metadata": {},
   "outputs": [],
   "source": [
    "dict_loc = dict(zip(locations,locations_pro))"
   ]
  },
  {
   "cell_type": "code",
   "execution_count": 797,
   "metadata": {},
   "outputs": [
    {
     "data": {
      "text/plain": [
       "{'Albury': 'Albury',\n",
       " 'BadgerysCreek': 'Badgerys Creek',\n",
       " 'Cobar': 'Cobar',\n",
       " 'CoffsHarbour': 'Coffs Harbour',\n",
       " 'Moree': 'Moree',\n",
       " 'Newcastle': 'Newcastle',\n",
       " 'NorahHead': 'Norah Head',\n",
       " 'NorfolkIsland': 'Norfolk Island',\n",
       " 'Penrith': 'Penrith',\n",
       " 'Richmond': 'Richmond',\n",
       " 'Sydney': 'Sydney',\n",
       " 'SydneyAirport': 'Sydney Airport',\n",
       " 'WaggaWagga': 'Wagga Wagga',\n",
       " 'Williamtown': 'Williamtown',\n",
       " 'Wollongong': 'Wollongong',\n",
       " 'Canberra': 'Canberra',\n",
       " 'Tuggeranong': 'Tuggeranong',\n",
       " 'MountGinini': 'Mount Ginini',\n",
       " 'Ballarat': 'Ballarat',\n",
       " 'Bendigo': 'Bendigo',\n",
       " 'Sale': 'Sale',\n",
       " 'MelbourneAirport': 'Melbourne Airport',\n",
       " 'Melbourne': 'Melbourne',\n",
       " 'Mildura': 'Mildura',\n",
       " 'Nhil': 'Nhil',\n",
       " 'Portland': 'Portland',\n",
       " 'Watsonia': 'Watsonia',\n",
       " 'Dartmoor': 'Dartmoor',\n",
       " 'Brisbane': 'Brisbane',\n",
       " 'Cairns': 'Cairns',\n",
       " 'GoldCoast': 'Gold Coast',\n",
       " 'Townsville': 'Townsville',\n",
       " 'Adelaide': 'Adelaide',\n",
       " 'MountGambier': 'Mount Gambier',\n",
       " 'Nuriootpa': 'Nuriootpa',\n",
       " 'Woomera': 'Woomera',\n",
       " 'Albany': 'Albany',\n",
       " 'Witchcliffe': 'Witchcliffe',\n",
       " 'PearceRAAF': 'Pearce RAAF',\n",
       " 'PerthAirport': 'Perth Airport',\n",
       " 'Perth': 'Perth',\n",
       " 'SalmonGums': 'Salmon Gums',\n",
       " 'Walpole': 'Walpole',\n",
       " 'Hobart': 'Hobart',\n",
       " 'Launceston': 'Launceston',\n",
       " 'AliceSprings': 'Alice Springs',\n",
       " 'Darwin': 'Darwin',\n",
       " 'Katherine': 'Katherine',\n",
       " 'Uluru': 'Uluru'}"
      ]
     },
     "execution_count": 797,
     "metadata": {},
     "output_type": "execute_result"
    }
   ],
   "source": [
    "dict_loc"
   ]
  },
  {
   "cell_type": "code",
   "execution_count": 798,
   "metadata": {},
   "outputs": [
    {
     "data": {
      "text/plain": [
       "0         Albury\n",
       "1         Albury\n",
       "2         Albury\n",
       "3         Albury\n",
       "4         Albury\n",
       "           ...  \n",
       "145455     Uluru\n",
       "145456     Uluru\n",
       "145457     Uluru\n",
       "145458     Uluru\n",
       "145459     Uluru\n",
       "Name: Location, Length: 145460, dtype: object"
      ]
     },
     "execution_count": 798,
     "metadata": {},
     "output_type": "execute_result"
    }
   ],
   "source": [
    "df['Location'].map(dict_loc) "
   ]
  },
  {
   "cell_type": "code",
   "execution_count": 799,
   "metadata": {},
   "outputs": [],
   "source": [
    "df['Location_'] = df['Location']"
   ]
  },
  {
   "cell_type": "code",
   "execution_count": null,
   "metadata": {},
   "outputs": [],
   "source": []
  },
  {
   "cell_type": "code",
   "execution_count": 800,
   "metadata": {},
   "outputs": [],
   "source": [
    "df['Location'] = df['Location'].map(df_locations.set_index('Locations')['lat'])"
   ]
  },
  {
   "cell_type": "code",
   "execution_count": 801,
   "metadata": {},
   "outputs": [],
   "source": [
    "df['Location_'] = df['Location_'].map(df_locations.set_index('Locations')['long'])"
   ]
  },
  {
   "cell_type": "code",
   "execution_count": 802,
   "metadata": {},
   "outputs": [
    {
     "data": {
      "text/html": [
       "<div>\n",
       "<style scoped>\n",
       "    .dataframe tbody tr th:only-of-type {\n",
       "        vertical-align: middle;\n",
       "    }\n",
       "\n",
       "    .dataframe tbody tr th {\n",
       "        vertical-align: top;\n",
       "    }\n",
       "\n",
       "    .dataframe thead th {\n",
       "        text-align: right;\n",
       "    }\n",
       "</style>\n",
       "<table border=\"1\" class=\"dataframe\">\n",
       "  <thead>\n",
       "    <tr style=\"text-align: right;\">\n",
       "      <th></th>\n",
       "      <th>Location</th>\n",
       "      <th>MinTemp</th>\n",
       "      <th>MaxTemp</th>\n",
       "      <th>Rainfall</th>\n",
       "      <th>WindGustDir</th>\n",
       "      <th>WindGustSpeed</th>\n",
       "      <th>WindDir9am</th>\n",
       "      <th>WindDir3pm</th>\n",
       "      <th>WindSpeed9am</th>\n",
       "      <th>WindSpeed3pm</th>\n",
       "      <th>Humidity9am</th>\n",
       "      <th>Humidity3pm</th>\n",
       "      <th>Pressure9am</th>\n",
       "      <th>Pressure3pm</th>\n",
       "      <th>Temp9am</th>\n",
       "      <th>Temp3pm</th>\n",
       "      <th>RainToday</th>\n",
       "      <th>RainTomorrow</th>\n",
       "      <th>Month</th>\n",
       "      <th>Location_</th>\n",
       "    </tr>\n",
       "  </thead>\n",
       "  <tbody>\n",
       "    <tr>\n",
       "      <th>0</th>\n",
       "      <td>-36.080477</td>\n",
       "      <td>13.4</td>\n",
       "      <td>22.9</td>\n",
       "      <td>0.6</td>\n",
       "      <td>W</td>\n",
       "      <td>44.0</td>\n",
       "      <td>W</td>\n",
       "      <td>WNW</td>\n",
       "      <td>20.0</td>\n",
       "      <td>24.0</td>\n",
       "      <td>71.0</td>\n",
       "      <td>22.0</td>\n",
       "      <td>1007.7</td>\n",
       "      <td>1007.1</td>\n",
       "      <td>16.9</td>\n",
       "      <td>21.8</td>\n",
       "      <td>No</td>\n",
       "      <td>No</td>\n",
       "      <td>12</td>\n",
       "      <td>146.91628</td>\n",
       "    </tr>\n",
       "    <tr>\n",
       "      <th>1</th>\n",
       "      <td>-36.080477</td>\n",
       "      <td>7.4</td>\n",
       "      <td>25.1</td>\n",
       "      <td>0.0</td>\n",
       "      <td>WNW</td>\n",
       "      <td>44.0</td>\n",
       "      <td>NNW</td>\n",
       "      <td>WSW</td>\n",
       "      <td>4.0</td>\n",
       "      <td>22.0</td>\n",
       "      <td>44.0</td>\n",
       "      <td>25.0</td>\n",
       "      <td>1010.6</td>\n",
       "      <td>1007.8</td>\n",
       "      <td>17.2</td>\n",
       "      <td>24.3</td>\n",
       "      <td>No</td>\n",
       "      <td>No</td>\n",
       "      <td>12</td>\n",
       "      <td>146.91628</td>\n",
       "    </tr>\n",
       "    <tr>\n",
       "      <th>2</th>\n",
       "      <td>-36.080477</td>\n",
       "      <td>12.9</td>\n",
       "      <td>25.7</td>\n",
       "      <td>0.0</td>\n",
       "      <td>WSW</td>\n",
       "      <td>46.0</td>\n",
       "      <td>W</td>\n",
       "      <td>WSW</td>\n",
       "      <td>19.0</td>\n",
       "      <td>26.0</td>\n",
       "      <td>38.0</td>\n",
       "      <td>30.0</td>\n",
       "      <td>1007.6</td>\n",
       "      <td>1008.7</td>\n",
       "      <td>21.0</td>\n",
       "      <td>23.2</td>\n",
       "      <td>No</td>\n",
       "      <td>No</td>\n",
       "      <td>12</td>\n",
       "      <td>146.91628</td>\n",
       "    </tr>\n",
       "    <tr>\n",
       "      <th>3</th>\n",
       "      <td>-36.080477</td>\n",
       "      <td>9.2</td>\n",
       "      <td>28.0</td>\n",
       "      <td>0.0</td>\n",
       "      <td>NE</td>\n",
       "      <td>24.0</td>\n",
       "      <td>SE</td>\n",
       "      <td>E</td>\n",
       "      <td>11.0</td>\n",
       "      <td>9.0</td>\n",
       "      <td>45.0</td>\n",
       "      <td>16.0</td>\n",
       "      <td>1017.6</td>\n",
       "      <td>1012.8</td>\n",
       "      <td>18.1</td>\n",
       "      <td>26.5</td>\n",
       "      <td>No</td>\n",
       "      <td>No</td>\n",
       "      <td>12</td>\n",
       "      <td>146.91628</td>\n",
       "    </tr>\n",
       "    <tr>\n",
       "      <th>4</th>\n",
       "      <td>-36.080477</td>\n",
       "      <td>17.5</td>\n",
       "      <td>32.3</td>\n",
       "      <td>1.0</td>\n",
       "      <td>W</td>\n",
       "      <td>41.0</td>\n",
       "      <td>ENE</td>\n",
       "      <td>NW</td>\n",
       "      <td>7.0</td>\n",
       "      <td>20.0</td>\n",
       "      <td>82.0</td>\n",
       "      <td>33.0</td>\n",
       "      <td>1010.8</td>\n",
       "      <td>1006.0</td>\n",
       "      <td>17.8</td>\n",
       "      <td>29.7</td>\n",
       "      <td>No</td>\n",
       "      <td>No</td>\n",
       "      <td>12</td>\n",
       "      <td>146.91628</td>\n",
       "    </tr>\n",
       "  </tbody>\n",
       "</table>\n",
       "</div>"
      ],
      "text/plain": [
       "    Location  MinTemp  MaxTemp  Rainfall WindGustDir  WindGustSpeed  \\\n",
       "0 -36.080477     13.4     22.9       0.6           W           44.0   \n",
       "1 -36.080477      7.4     25.1       0.0         WNW           44.0   \n",
       "2 -36.080477     12.9     25.7       0.0         WSW           46.0   \n",
       "3 -36.080477      9.2     28.0       0.0          NE           24.0   \n",
       "4 -36.080477     17.5     32.3       1.0           W           41.0   \n",
       "\n",
       "  WindDir9am WindDir3pm  WindSpeed9am  WindSpeed3pm  Humidity9am  Humidity3pm  \\\n",
       "0          W        WNW          20.0          24.0         71.0         22.0   \n",
       "1        NNW        WSW           4.0          22.0         44.0         25.0   \n",
       "2          W        WSW          19.0          26.0         38.0         30.0   \n",
       "3         SE          E          11.0           9.0         45.0         16.0   \n",
       "4        ENE         NW           7.0          20.0         82.0         33.0   \n",
       "\n",
       "   Pressure9am  Pressure3pm  Temp9am  Temp3pm RainToday RainTomorrow  Month  \\\n",
       "0       1007.7       1007.1     16.9     21.8        No           No     12   \n",
       "1       1010.6       1007.8     17.2     24.3        No           No     12   \n",
       "2       1007.6       1008.7     21.0     23.2        No           No     12   \n",
       "3       1017.6       1012.8     18.1     26.5        No           No     12   \n",
       "4       1010.8       1006.0     17.8     29.7        No           No     12   \n",
       "\n",
       "   Location_  \n",
       "0  146.91628  \n",
       "1  146.91628  \n",
       "2  146.91628  \n",
       "3  146.91628  \n",
       "4  146.91628  "
      ]
     },
     "execution_count": 802,
     "metadata": {},
     "output_type": "execute_result"
    }
   ],
   "source": [
    "df.head()"
   ]
  },
  {
   "cell_type": "markdown",
   "metadata": {},
   "source": [
    "Volvemos a ver las columnas con alta cardinalidad"
   ]
  },
  {
   "cell_type": "code",
   "execution_count": 803,
   "metadata": {},
   "outputs": [
    {
     "name": "stdout",
     "output_type": "stream",
     "text": [
      "WindGustDir: 17 etiquetas\n",
      "WindDir9am: 17 etiquetas\n",
      "WindDir3pm: 17 etiquetas\n",
      "RainToday: 3 etiquetas\n",
      "RainTomorrow: 3 etiquetas\n"
     ]
    }
   ],
   "source": [
    "col_categorical = [var for var in df.columns if df[var].dtype=='O']\n",
    "for i in col_categorical:\n",
    "    print(f\"{i}: {len(df[i].unique())} etiquetas\")"
   ]
  },
  {
   "cell_type": "markdown",
   "metadata": {},
   "source": [
    "Vemos cuales ed las columnas tienen nulos no mayor al 5$ del dataset"
   ]
  },
  {
   "cell_type": "code",
   "execution_count": 804,
   "metadata": {},
   "outputs": [
    {
     "name": "stdout",
     "output_type": "stream",
     "text": [
      "WindGustDir: False\n",
      "WindDir9am: False\n",
      "WindDir3pm: True\n",
      "RainToday: True\n",
      "RainTomorrow: True\n"
     ]
    }
   ],
   "source": [
    "for i in col_categorical:\n",
    "    print(f\"{i}: {cca(df[i])}\")"
   ]
  },
  {
   "cell_type": "markdown",
   "metadata": {},
   "source": [
    "Vemos que RainToday y RainTomorrow tienen nulos menor al 5% del dataset. Recordar que RainTomorrow es nuestro target."
   ]
  },
  {
   "cell_type": "markdown",
   "metadata": {},
   "source": [
    "Veremos las frecuencias de las etiquetas de las columnas sobre Wind"
   ]
  },
  {
   "cell_type": "code",
   "execution_count": 805,
   "metadata": {},
   "outputs": [
    {
     "data": {
      "image/png": "[encoded data removed]",
      "text/plain": [
       "<Figure size 432x576 with 1 Axes>"
      ]
     },
     "metadata": {},
     "output_type": "display_data"
    }
   ],
   "source": [
    "f, ax = plt.subplots(figsize=(6, 8))\n",
    "ax = sns.countplot(x=\"WindGustDir\", data=df, palette=\"Set1\")\n",
    "plt.show()"
   ]
  },
  {
   "cell_type": "code",
   "execution_count": 806,
   "metadata": {},
   "outputs": [
    {
     "data": {
      "image/png": "[encoded data removed]",
      "text/plain": [
       "<Figure size 432x576 with 1 Axes>"
      ]
     },
     "metadata": {},
     "output_type": "display_data"
    }
   ],
   "source": [
    "f, ax = plt.subplots(figsize=(6, 8))\n",
    "ax = sns.countplot(x=\"WindDir9am\", data=df, palette=\"Set1\")\n",
    "plt.show()"
   ]
  },
  {
   "cell_type": "code",
   "execution_count": 807,
   "metadata": {},
   "outputs": [
    {
     "data": {
      "image/png": "[encoded data removed]",
      "text/plain": [
       "<Figure size 432x576 with 1 Axes>"
      ]
     },
     "metadata": {},
     "output_type": "display_data"
    }
   ],
   "source": [
    "f, ax = plt.subplots(figsize=(6, 8))\n",
    "ax = sns.countplot(x=\"WindDir3pm\", data=df, palette=\"Set1\")\n",
    "plt.show()"
   ]
  },
  {
   "cell_type": "code",
   "execution_count": 808,
   "metadata": {},
   "outputs": [
    {
     "data": {
      "image/png": "[encoded data removed]",
      "text/plain": [
       "<Figure size 432x576 with 1 Axes>"
      ]
     },
     "metadata": {},
     "output_type": "display_data"
    }
   ],
   "source": [
    "f, ax = plt.subplots(figsize=(6, 8))\n",
    "ax = sns.countplot(x=\"RainToday\", data=df, palette=\"Set1\")\n",
    "plt.show()"
   ]
  },
  {
   "cell_type": "code",
   "execution_count": 809,
   "metadata": {},
   "outputs": [
    {
     "data": {
      "image/png": "[encoded data removed]",
      "text/plain": [
       "<Figure size 432x576 with 1 Axes>"
      ]
     },
     "metadata": {},
     "output_type": "display_data"
    }
   ],
   "source": [
    "f, ax = plt.subplots(figsize=(6, 8))\n",
    "ax = sns.countplot(x=\"RainTomorrow\", data=df, palette=\"Set1\")\n",
    "plt.show()"
   ]
  },
  {
   "cell_type": "markdown",
   "metadata": {},
   "source": [
    "Ahora veremos sobre las columnas numericas"
   ]
  },
  {
   "cell_type": "code",
   "execution_count": 810,
   "metadata": {},
   "outputs": [],
   "source": [
    "numerical_col = df._get_numeric_data().columns"
   ]
  },
  {
   "cell_type": "code",
   "execution_count": 811,
   "metadata": {},
   "outputs": [
    {
     "name": "stdout",
     "output_type": "stream",
     "text": [
      "Location: False\n",
      "MinTemp: True\n",
      "MaxTemp: True\n",
      "Rainfall: True\n",
      "WindGustSpeed: False\n",
      "WindSpeed9am: True\n",
      "WindSpeed3pm: True\n",
      "Humidity9am: True\n",
      "Humidity3pm: True\n",
      "Pressure9am: False\n",
      "Pressure3pm: False\n",
      "Temp9am: True\n",
      "Temp3pm: True\n",
      "Month: True\n",
      "Location_: False\n"
     ]
    }
   ],
   "source": [
    "for i in numerical_col:\n",
    "    print(f\"{i}: {cca(df[i])}\")"
   ]
  },
  {
   "cell_type": "markdown",
   "metadata": {},
   "source": [
    "De estas columnas, las que si pueden recibir distintos tratamientos puesto que tienen valores nulos menores a 5% son:\n",
    "* MinTemp\n",
    "* MaxTemp\n",
    "* Rainfall\n",
    "* WindSpeed9am\n",
    "* WindSpeed3pm\n",
    "* Humidity9am\n",
    "* Humidity3pm\n",
    "* Temp9am\n",
    "* Temp3pm\n",
    "* Month"
   ]
  },
  {
   "cell_type": "markdown",
   "metadata": {},
   "source": [
    "Las columnas que tienen nulos mayor al 5% son:\n",
    "* WindGustSpeed\n",
    "* Pressure9am\n",
    "* Pressure3pm\n"
   ]
  },
  {
   "cell_type": "code",
   "execution_count": 812,
   "metadata": {},
   "outputs": [
    {
     "data": {
      "text/plain": [
       "\"\\n# Debido a la alta correlación eliminamos Temp3pm y Temp9pm\\ndf.drop(['Temp3pm','Temp9am'],axis=1,inplace=True)\\n\""
      ]
     },
     "execution_count": 812,
     "metadata": {},
     "output_type": "execute_result"
    }
   ],
   "source": [
    "\"\"\"\n",
    "# Debido a la alta correlación eliminamos Temp3pm y Temp9pm\n",
    "df.drop(['Temp3pm','Temp9am'],axis=1,inplace=True)\n",
    "\"\"\""
   ]
  },
  {
   "cell_type": "code",
   "execution_count": 813,
   "metadata": {},
   "outputs": [
    {
     "data": {
      "text/plain": [
       "\"\\n#Location y date no serán usados por lo que serán eliminados\\ndf.drop(['Date','Location'],axis=1,inplace=True)\\n\""
      ]
     },
     "execution_count": 813,
     "metadata": {},
     "output_type": "execute_result"
    }
   ],
   "source": [
    "\"\"\"\n",
    "#Location y date no serán usados por lo que serán eliminados\n",
    "df.drop(['Date','Location'],axis=1,inplace=True)\n",
    "\"\"\""
   ]
  },
  {
   "cell_type": "code",
   "execution_count": 814,
   "metadata": {},
   "outputs": [
    {
     "data": {
      "text/plain": [
       "'\\ndisplay_dataset_distributions(df)\\n'"
      ]
     },
     "execution_count": 814,
     "metadata": {},
     "output_type": "execute_result"
    }
   ],
   "source": [
    "\"\"\"\n",
    "display_dataset_distributions(df)\n",
    "\"\"\""
   ]
  },
  {
   "cell_type": "markdown",
   "metadata": {},
   "source": [
    "# Limpieza y preparación de datos / ingeniería de features"
   ]
  },
  {
   "cell_type": "markdown",
   "metadata": {},
   "source": [
    "#### Columnas numericas que tienen menos del 5% del dataset con datos faltantes"
   ]
  },
  {
   "cell_type": "code",
   "execution_count": 815,
   "metadata": {},
   "outputs": [
    {
     "data": {
      "image/png": "[encoded data removed]",
      "text/plain": [
       "<Figure size 432x288 with 1 Axes>"
      ]
     },
     "metadata": {},
     "output_type": "display_data"
    }
   ],
   "source": [
    "df.boxplot(column='MinTemp', return_type='axes');"
   ]
  },
  {
   "cell_type": "code",
   "execution_count": 816,
   "metadata": {},
   "outputs": [],
   "source": [
    "df['MinTemp'].fillna((df['MinTemp'].mean()), inplace=True)"
   ]
  },
  {
   "cell_type": "code",
   "execution_count": 817,
   "metadata": {},
   "outputs": [
    {
     "data": {
      "image/png": "[encoded data removed]",
      "text/plain": [
       "<Figure size 432x288 with 1 Axes>"
      ]
     },
     "metadata": {},
     "output_type": "display_data"
    }
   ],
   "source": [
    "df.boxplot(column='MaxTemp', return_type='axes');"
   ]
  },
  {
   "cell_type": "code",
   "execution_count": 818,
   "metadata": {},
   "outputs": [],
   "source": [
    "df['MaxTemp'].fillna((df['MaxTemp'].mean()), inplace=True)"
   ]
  },
  {
   "cell_type": "code",
   "execution_count": 819,
   "metadata": {},
   "outputs": [
    {
     "data": {
      "image/png": "[encoded data removed]",
      "text/plain": [
       "<Figure size 432x288 with 1 Axes>"
      ]
     },
     "metadata": {},
     "output_type": "display_data"
    }
   ],
   "source": [
    "df.boxplot(column='Rainfall', return_type='axes');"
   ]
  },
  {
   "cell_type": "code",
   "execution_count": 820,
   "metadata": {},
   "outputs": [],
   "source": [
    "df['Rainfall'].fillna((df['Rainfall'].median()), inplace=True)"
   ]
  },
  {
   "cell_type": "code",
   "execution_count": 821,
   "metadata": {},
   "outputs": [
    {
     "data": {
      "image/png": "[encoded data removed]",
      "text/plain": [
       "<Figure size 432x288 with 1 Axes>"
      ]
     },
     "metadata": {},
     "output_type": "display_data"
    }
   ],
   "source": [
    "df.boxplot(column='WindSpeed9am', return_type='axes');"
   ]
  },
  {
   "cell_type": "code",
   "execution_count": 822,
   "metadata": {},
   "outputs": [],
   "source": [
    "df['WindSpeed9am'].fillna((df['WindSpeed9am'].median()), inplace=True)"
   ]
  },
  {
   "cell_type": "code",
   "execution_count": 823,
   "metadata": {},
   "outputs": [
    {
     "data": {
      "image/png": "[encoded data removed]",
      "text/plain": [
       "<Figure size 432x288 with 1 Axes>"
      ]
     },
     "metadata": {},
     "output_type": "display_data"
    }
   ],
   "source": [
    "df.boxplot(column='WindSpeed3pm', return_type='axes');"
   ]
  },
  {
   "cell_type": "code",
   "execution_count": 824,
   "metadata": {},
   "outputs": [],
   "source": [
    "df['WindSpeed3pm'].fillna((df['WindSpeed3pm'].median()), inplace=True)"
   ]
  },
  {
   "cell_type": "code",
   "execution_count": 825,
   "metadata": {},
   "outputs": [
    {
     "data": {
      "image/png": "[encoded data removed]",
      "text/plain": [
       "<Figure size 432x288 with 1 Axes>"
      ]
     },
     "metadata": {},
     "output_type": "display_data"
    }
   ],
   "source": [
    "df.boxplot(column='Humidity9am', return_type='axes');"
   ]
  },
  {
   "cell_type": "code",
   "execution_count": 826,
   "metadata": {},
   "outputs": [],
   "source": [
    "df['Humidity9am'].fillna((df['Humidity9am'].median()), inplace=True)"
   ]
  },
  {
   "cell_type": "code",
   "execution_count": 827,
   "metadata": {},
   "outputs": [
    {
     "data": {
      "image/png": "[encoded data removed]",
      "text/plain": [
       "<Figure size 432x288 with 1 Axes>"
      ]
     },
     "metadata": {},
     "output_type": "display_data"
    }
   ],
   "source": [
    "df.boxplot(column='Humidity3pm', return_type='axes');"
   ]
  },
  {
   "cell_type": "code",
   "execution_count": 828,
   "metadata": {},
   "outputs": [],
   "source": [
    "df['Humidity3pm'].fillna((df['Humidity3pm'].mean()), inplace=True)"
   ]
  },
  {
   "cell_type": "code",
   "execution_count": 829,
   "metadata": {},
   "outputs": [
    {
     "data": {
      "image/png": "[encoded data removed]",
      "text/plain": [
       "<Figure size 432x288 with 1 Axes>"
      ]
     },
     "metadata": {},
     "output_type": "display_data"
    }
   ],
   "source": [
    "df.boxplot(column='Temp9am', return_type='axes');"
   ]
  },
  {
   "cell_type": "code",
   "execution_count": 830,
   "metadata": {},
   "outputs": [],
   "source": [
    "df['Temp9am'].fillna((df['Temp9am'].mean()), inplace=True)"
   ]
  },
  {
   "cell_type": "code",
   "execution_count": 831,
   "metadata": {},
   "outputs": [
    {
     "data": {
      "image/png": "[encoded data removed]",
      "text/plain": [
       "<Figure size 432x288 with 1 Axes>"
      ]
     },
     "metadata": {},
     "output_type": "display_data"
    }
   ],
   "source": [
    "df.boxplot(column='Temp3pm', return_type='axes');"
   ]
  },
  {
   "cell_type": "code",
   "execution_count": 832,
   "metadata": {},
   "outputs": [],
   "source": [
    "df['Temp3pm'].fillna((df['Temp3pm'].mean()), inplace=True)"
   ]
  },
  {
   "cell_type": "code",
   "execution_count": 833,
   "metadata": {},
   "outputs": [
    {
     "data": {
      "image/png": "[encoded data removed]",
      "text/plain": [
       "<Figure size 432x288 with 1 Axes>"
      ]
     },
     "metadata": {},
     "output_type": "display_data"
    }
   ],
   "source": [
    "df.boxplot(column='Month', return_type='axes');"
   ]
  },
  {
   "cell_type": "code",
   "execution_count": 834,
   "metadata": {},
   "outputs": [],
   "source": [
    "df['Month'].fillna((df['Month'].mean()), inplace=True)"
   ]
  },
  {
   "cell_type": "markdown",
   "metadata": {},
   "source": [
    "#### Columnas numericas  que tienen más del 5% del dataset con datos faltantes"
   ]
  },
  {
   "cell_type": "code",
   "execution_count": 835,
   "metadata": {},
   "outputs": [
    {
     "data": {
      "text/plain": [
       "array([[<AxesSubplot:title={'center':'Location'}>,\n",
       "        <AxesSubplot:title={'center':'WindGustSpeed'}>],\n",
       "       [<AxesSubplot:title={'center':'Pressure9am'}>,\n",
       "        <AxesSubplot:title={'center':'Pressure3pm'}>],\n",
       "       [<AxesSubplot:title={'center':'Location_'}>, <AxesSubplot:>]],\n",
       "      dtype=object)"
      ]
     },
     "execution_count": 835,
     "metadata": {},
     "output_type": "execute_result"
    },
    {
     "data": {
      "image/png": "[encoded data removed]",
      "text/plain": [
       "<Figure size 432x288 with 6 Axes>"
      ]
     },
     "metadata": {},
     "output_type": "display_data"
    }
   ],
   "source": [
    "columnas = np.array(df.columns)\n",
    "cca_columns, no_cca_columns = col_cca_nocca(columnas)\n",
    "numerical_col = df[no_cca_columns]._get_numeric_data().columns\n",
    "df[numerical_col].hist()"
   ]
  },
  {
   "cell_type": "code",
   "execution_count": 836,
   "metadata": {},
   "outputs": [],
   "source": [
    "df[\"WindGustSpeed\"].fillna(value=df[\"WindGustSpeed\"].median(), inplace=True)"
   ]
  },
  {
   "cell_type": "code",
   "execution_count": 837,
   "metadata": {},
   "outputs": [],
   "source": [
    "df[\"Pressure3pm\"].fillna(value=df[\"Pressure3pm\"].mean(), inplace=True)"
   ]
  },
  {
   "cell_type": "code",
   "execution_count": 838,
   "metadata": {},
   "outputs": [],
   "source": [
    "df[\"Pressure9am\"].fillna(value=df[\"Pressure9am\"].mean(), inplace=True)"
   ]
  },
  {
   "cell_type": "markdown",
   "metadata": {},
   "source": [
    "#### Revisamos como van los datos nulos al momento"
   ]
  },
  {
   "cell_type": "code",
   "execution_count": 839,
   "metadata": {},
   "outputs": [
    {
     "data": {
      "image/png": "[encoded data removed]",
      "text/plain": [
       "<Figure size 1080x720 with 1 Axes>"
      ]
     },
     "metadata": {},
     "output_type": "display_data"
    }
   ],
   "source": [
    "df.isnull().sum().plot(kind='bar', figsize=(15, 10))\n",
    "plt.show()"
   ]
  },
  {
   "cell_type": "markdown",
   "metadata": {},
   "source": [
    "En el caso de location (latitud) y la location_ (longitud) vamos a eliminar los datos nulos"
   ]
  },
  {
   "cell_type": "markdown",
   "metadata": {},
   "source": [
    "### Hacemos tratamiento para categorical data "
   ]
  },
  {
   "cell_type": "code",
   "execution_count": 840,
   "metadata": {},
   "outputs": [
    {
     "data": {
      "text/plain": [
       "['WindDir3pm', 'RainToday', 'RainTomorrow']"
      ]
     },
     "execution_count": 840,
     "metadata": {},
     "output_type": "execute_result"
    }
   ],
   "source": [
    "df[cca_columns].columns[df[cca_columns].isna().any()].tolist()"
   ]
  },
  {
   "cell_type": "code",
   "execution_count": 841,
   "metadata": {},
   "outputs": [
    {
     "data": {
      "text/html": [
       "<div>\n",
       "<style scoped>\n",
       "    .dataframe tbody tr th:only-of-type {\n",
       "        vertical-align: middle;\n",
       "    }\n",
       "\n",
       "    .dataframe tbody tr th {\n",
       "        vertical-align: top;\n",
       "    }\n",
       "\n",
       "    .dataframe thead th {\n",
       "        text-align: right;\n",
       "    }\n",
       "</style>\n",
       "<table border=\"1\" class=\"dataframe\">\n",
       "  <thead>\n",
       "    <tr style=\"text-align: right;\">\n",
       "      <th></th>\n",
       "      <th>WindGustDir_ENE</th>\n",
       "      <th>WindGustDir_ESE</th>\n",
       "      <th>WindGustDir_N</th>\n",
       "      <th>WindGustDir_NE</th>\n",
       "      <th>WindGustDir_NNE</th>\n",
       "      <th>WindGustDir_NNW</th>\n",
       "      <th>WindGustDir_NW</th>\n",
       "      <th>WindGustDir_S</th>\n",
       "      <th>WindGustDir_SE</th>\n",
       "      <th>WindGustDir_SSE</th>\n",
       "      <th>...</th>\n",
       "      <th>WindDir3pm_NNW</th>\n",
       "      <th>WindDir3pm_NW</th>\n",
       "      <th>WindDir3pm_S</th>\n",
       "      <th>WindDir3pm_SE</th>\n",
       "      <th>WindDir3pm_SSE</th>\n",
       "      <th>WindDir3pm_SSW</th>\n",
       "      <th>WindDir3pm_SW</th>\n",
       "      <th>WindDir3pm_W</th>\n",
       "      <th>WindDir3pm_WNW</th>\n",
       "      <th>WindDir3pm_WSW</th>\n",
       "    </tr>\n",
       "  </thead>\n",
       "  <tbody>\n",
       "    <tr>\n",
       "      <th>0</th>\n",
       "      <td>0</td>\n",
       "      <td>0</td>\n",
       "      <td>0</td>\n",
       "      <td>0</td>\n",
       "      <td>0</td>\n",
       "      <td>0</td>\n",
       "      <td>0</td>\n",
       "      <td>0</td>\n",
       "      <td>0</td>\n",
       "      <td>0</td>\n",
       "      <td>...</td>\n",
       "      <td>0</td>\n",
       "      <td>0</td>\n",
       "      <td>0</td>\n",
       "      <td>0</td>\n",
       "      <td>0</td>\n",
       "      <td>0</td>\n",
       "      <td>0</td>\n",
       "      <td>0</td>\n",
       "      <td>1</td>\n",
       "      <td>0</td>\n",
       "    </tr>\n",
       "    <tr>\n",
       "      <th>1</th>\n",
       "      <td>0</td>\n",
       "      <td>0</td>\n",
       "      <td>0</td>\n",
       "      <td>0</td>\n",
       "      <td>0</td>\n",
       "      <td>0</td>\n",
       "      <td>0</td>\n",
       "      <td>0</td>\n",
       "      <td>0</td>\n",
       "      <td>0</td>\n",
       "      <td>...</td>\n",
       "      <td>0</td>\n",
       "      <td>0</td>\n",
       "      <td>0</td>\n",
       "      <td>0</td>\n",
       "      <td>0</td>\n",
       "      <td>0</td>\n",
       "      <td>0</td>\n",
       "      <td>0</td>\n",
       "      <td>0</td>\n",
       "      <td>1</td>\n",
       "    </tr>\n",
       "    <tr>\n",
       "      <th>2</th>\n",
       "      <td>0</td>\n",
       "      <td>0</td>\n",
       "      <td>0</td>\n",
       "      <td>0</td>\n",
       "      <td>0</td>\n",
       "      <td>0</td>\n",
       "      <td>0</td>\n",
       "      <td>0</td>\n",
       "      <td>0</td>\n",
       "      <td>0</td>\n",
       "      <td>...</td>\n",
       "      <td>0</td>\n",
       "      <td>0</td>\n",
       "      <td>0</td>\n",
       "      <td>0</td>\n",
       "      <td>0</td>\n",
       "      <td>0</td>\n",
       "      <td>0</td>\n",
       "      <td>0</td>\n",
       "      <td>0</td>\n",
       "      <td>1</td>\n",
       "    </tr>\n",
       "    <tr>\n",
       "      <th>3</th>\n",
       "      <td>0</td>\n",
       "      <td>0</td>\n",
       "      <td>0</td>\n",
       "      <td>1</td>\n",
       "      <td>0</td>\n",
       "      <td>0</td>\n",
       "      <td>0</td>\n",
       "      <td>0</td>\n",
       "      <td>0</td>\n",
       "      <td>0</td>\n",
       "      <td>...</td>\n",
       "      <td>0</td>\n",
       "      <td>0</td>\n",
       "      <td>0</td>\n",
       "      <td>0</td>\n",
       "      <td>0</td>\n",
       "      <td>0</td>\n",
       "      <td>0</td>\n",
       "      <td>0</td>\n",
       "      <td>0</td>\n",
       "      <td>0</td>\n",
       "    </tr>\n",
       "    <tr>\n",
       "      <th>4</th>\n",
       "      <td>0</td>\n",
       "      <td>0</td>\n",
       "      <td>0</td>\n",
       "      <td>0</td>\n",
       "      <td>0</td>\n",
       "      <td>0</td>\n",
       "      <td>0</td>\n",
       "      <td>0</td>\n",
       "      <td>0</td>\n",
       "      <td>0</td>\n",
       "      <td>...</td>\n",
       "      <td>0</td>\n",
       "      <td>1</td>\n",
       "      <td>0</td>\n",
       "      <td>0</td>\n",
       "      <td>0</td>\n",
       "      <td>0</td>\n",
       "      <td>0</td>\n",
       "      <td>0</td>\n",
       "      <td>0</td>\n",
       "      <td>0</td>\n",
       "    </tr>\n",
       "  </tbody>\n",
       "</table>\n",
       "<p>5 rows × 45 columns</p>\n",
       "</div>"
      ],
      "text/plain": [
       "   WindGustDir_ENE  WindGustDir_ESE  WindGustDir_N  WindGustDir_NE  \\\n",
       "0                0                0              0               0   \n",
       "1                0                0              0               0   \n",
       "2                0                0              0               0   \n",
       "3                0                0              0               1   \n",
       "4                0                0              0               0   \n",
       "\n",
       "   WindGustDir_NNE  WindGustDir_NNW  WindGustDir_NW  WindGustDir_S  \\\n",
       "0                0                0               0              0   \n",
       "1                0                0               0              0   \n",
       "2                0                0               0              0   \n",
       "3                0                0               0              0   \n",
       "4                0                0               0              0   \n",
       "\n",
       "   WindGustDir_SE  WindGustDir_SSE  ...  WindDir3pm_NNW  WindDir3pm_NW  \\\n",
       "0               0                0  ...               0              0   \n",
       "1               0                0  ...               0              0   \n",
       "2               0                0  ...               0              0   \n",
       "3               0                0  ...               0              0   \n",
       "4               0                0  ...               0              1   \n",
       "\n",
       "   WindDir3pm_S  WindDir3pm_SE  WindDir3pm_SSE  WindDir3pm_SSW  WindDir3pm_SW  \\\n",
       "0             0              0               0               0              0   \n",
       "1             0              0               0               0              0   \n",
       "2             0              0               0               0              0   \n",
       "3             0              0               0               0              0   \n",
       "4             0              0               0               0              0   \n",
       "\n",
       "   WindDir3pm_W  WindDir3pm_WNW  WindDir3pm_WSW  \n",
       "0             0               1               0  \n",
       "1             0               0               1  \n",
       "2             0               0               1  \n",
       "3             0               0               0  \n",
       "4             0               0               0  \n",
       "\n",
       "[5 rows x 45 columns]"
      ]
     },
     "execution_count": 841,
     "metadata": {},
     "output_type": "execute_result"
    }
   ],
   "source": [
    "cat_variables = df[[\"WindGustDir\",\"WindDir9am\",\"WindDir3pm\"]]\n",
    "cat_dummies = pd.get_dummies(cat_variables, drop_first=True)\n",
    "cat_dummies.head()"
   ]
  },
  {
   "cell_type": "code",
   "execution_count": 842,
   "metadata": {},
   "outputs": [
    {
     "data": {
      "text/html": [
       "<div>\n",
       "<style scoped>\n",
       "    .dataframe tbody tr th:only-of-type {\n",
       "        vertical-align: middle;\n",
       "    }\n",
       "\n",
       "    .dataframe tbody tr th {\n",
       "        vertical-align: top;\n",
       "    }\n",
       "\n",
       "    .dataframe thead th {\n",
       "        text-align: right;\n",
       "    }\n",
       "</style>\n",
       "<table border=\"1\" class=\"dataframe\">\n",
       "  <thead>\n",
       "    <tr style=\"text-align: right;\">\n",
       "      <th></th>\n",
       "      <th>Location</th>\n",
       "      <th>MinTemp</th>\n",
       "      <th>MaxTemp</th>\n",
       "      <th>Rainfall</th>\n",
       "      <th>WindGustSpeed</th>\n",
       "      <th>WindSpeed9am</th>\n",
       "      <th>WindSpeed3pm</th>\n",
       "      <th>Humidity9am</th>\n",
       "      <th>Humidity3pm</th>\n",
       "      <th>Pressure9am</th>\n",
       "      <th>...</th>\n",
       "      <th>WindDir3pm_NNW</th>\n",
       "      <th>WindDir3pm_NW</th>\n",
       "      <th>WindDir3pm_S</th>\n",
       "      <th>WindDir3pm_SE</th>\n",
       "      <th>WindDir3pm_SSE</th>\n",
       "      <th>WindDir3pm_SSW</th>\n",
       "      <th>WindDir3pm_SW</th>\n",
       "      <th>WindDir3pm_W</th>\n",
       "      <th>WindDir3pm_WNW</th>\n",
       "      <th>WindDir3pm_WSW</th>\n",
       "    </tr>\n",
       "  </thead>\n",
       "  <tbody>\n",
       "    <tr>\n",
       "      <th>0</th>\n",
       "      <td>-36.080477</td>\n",
       "      <td>13.4</td>\n",
       "      <td>22.9</td>\n",
       "      <td>0.6</td>\n",
       "      <td>44.0</td>\n",
       "      <td>20.0</td>\n",
       "      <td>24.0</td>\n",
       "      <td>71.0</td>\n",
       "      <td>22.0</td>\n",
       "      <td>1007.7</td>\n",
       "      <td>...</td>\n",
       "      <td>0</td>\n",
       "      <td>0</td>\n",
       "      <td>0</td>\n",
       "      <td>0</td>\n",
       "      <td>0</td>\n",
       "      <td>0</td>\n",
       "      <td>0</td>\n",
       "      <td>0</td>\n",
       "      <td>1</td>\n",
       "      <td>0</td>\n",
       "    </tr>\n",
       "    <tr>\n",
       "      <th>1</th>\n",
       "      <td>-36.080477</td>\n",
       "      <td>7.4</td>\n",
       "      <td>25.1</td>\n",
       "      <td>0.0</td>\n",
       "      <td>44.0</td>\n",
       "      <td>4.0</td>\n",
       "      <td>22.0</td>\n",
       "      <td>44.0</td>\n",
       "      <td>25.0</td>\n",
       "      <td>1010.6</td>\n",
       "      <td>...</td>\n",
       "      <td>0</td>\n",
       "      <td>0</td>\n",
       "      <td>0</td>\n",
       "      <td>0</td>\n",
       "      <td>0</td>\n",
       "      <td>0</td>\n",
       "      <td>0</td>\n",
       "      <td>0</td>\n",
       "      <td>0</td>\n",
       "      <td>1</td>\n",
       "    </tr>\n",
       "    <tr>\n",
       "      <th>2</th>\n",
       "      <td>-36.080477</td>\n",
       "      <td>12.9</td>\n",
       "      <td>25.7</td>\n",
       "      <td>0.0</td>\n",
       "      <td>46.0</td>\n",
       "      <td>19.0</td>\n",
       "      <td>26.0</td>\n",
       "      <td>38.0</td>\n",
       "      <td>30.0</td>\n",
       "      <td>1007.6</td>\n",
       "      <td>...</td>\n",
       "      <td>0</td>\n",
       "      <td>0</td>\n",
       "      <td>0</td>\n",
       "      <td>0</td>\n",
       "      <td>0</td>\n",
       "      <td>0</td>\n",
       "      <td>0</td>\n",
       "      <td>0</td>\n",
       "      <td>0</td>\n",
       "      <td>1</td>\n",
       "    </tr>\n",
       "    <tr>\n",
       "      <th>3</th>\n",
       "      <td>-36.080477</td>\n",
       "      <td>9.2</td>\n",
       "      <td>28.0</td>\n",
       "      <td>0.0</td>\n",
       "      <td>24.0</td>\n",
       "      <td>11.0</td>\n",
       "      <td>9.0</td>\n",
       "      <td>45.0</td>\n",
       "      <td>16.0</td>\n",
       "      <td>1017.6</td>\n",
       "      <td>...</td>\n",
       "      <td>0</td>\n",
       "      <td>0</td>\n",
       "      <td>0</td>\n",
       "      <td>0</td>\n",
       "      <td>0</td>\n",
       "      <td>0</td>\n",
       "      <td>0</td>\n",
       "      <td>0</td>\n",
       "      <td>0</td>\n",
       "      <td>0</td>\n",
       "    </tr>\n",
       "    <tr>\n",
       "      <th>4</th>\n",
       "      <td>-36.080477</td>\n",
       "      <td>17.5</td>\n",
       "      <td>32.3</td>\n",
       "      <td>1.0</td>\n",
       "      <td>41.0</td>\n",
       "      <td>7.0</td>\n",
       "      <td>20.0</td>\n",
       "      <td>82.0</td>\n",
       "      <td>33.0</td>\n",
       "      <td>1010.8</td>\n",
       "      <td>...</td>\n",
       "      <td>0</td>\n",
       "      <td>1</td>\n",
       "      <td>0</td>\n",
       "      <td>0</td>\n",
       "      <td>0</td>\n",
       "      <td>0</td>\n",
       "      <td>0</td>\n",
       "      <td>0</td>\n",
       "      <td>0</td>\n",
       "      <td>0</td>\n",
       "    </tr>\n",
       "  </tbody>\n",
       "</table>\n",
       "<p>5 rows × 62 columns</p>\n",
       "</div>"
      ],
      "text/plain": [
       "    Location  MinTemp  MaxTemp  Rainfall  WindGustSpeed  WindSpeed9am  \\\n",
       "0 -36.080477     13.4     22.9       0.6           44.0          20.0   \n",
       "1 -36.080477      7.4     25.1       0.0           44.0           4.0   \n",
       "2 -36.080477     12.9     25.7       0.0           46.0          19.0   \n",
       "3 -36.080477      9.2     28.0       0.0           24.0          11.0   \n",
       "4 -36.080477     17.5     32.3       1.0           41.0           7.0   \n",
       "\n",
       "   WindSpeed3pm  Humidity9am  Humidity3pm  Pressure9am  ...  WindDir3pm_NNW  \\\n",
       "0          24.0         71.0         22.0       1007.7  ...               0   \n",
       "1          22.0         44.0         25.0       1010.6  ...               0   \n",
       "2          26.0         38.0         30.0       1007.6  ...               0   \n",
       "3           9.0         45.0         16.0       1017.6  ...               0   \n",
       "4          20.0         82.0         33.0       1010.8  ...               0   \n",
       "\n",
       "   WindDir3pm_NW  WindDir3pm_S WindDir3pm_SE WindDir3pm_SSE  WindDir3pm_SSW  \\\n",
       "0              0             0             0              0               0   \n",
       "1              0             0             0              0               0   \n",
       "2              0             0             0              0               0   \n",
       "3              0             0             0              0               0   \n",
       "4              1             0             0              0               0   \n",
       "\n",
       "   WindDir3pm_SW  WindDir3pm_W  WindDir3pm_WNW  WindDir3pm_WSW  \n",
       "0              0             0               1               0  \n",
       "1              0             0               0               1  \n",
       "2              0             0               0               1  \n",
       "3              0             0               0               0  \n",
       "4              0             0               0               0  \n",
       "\n",
       "[5 rows x 62 columns]"
      ]
     },
     "execution_count": 842,
     "metadata": {},
     "output_type": "execute_result"
    }
   ],
   "source": [
    "df = df.drop([\"WindGustDir\",\"WindDir9am\",\"WindDir3pm\"], axis=1)\n",
    "df = pd.concat([df, cat_dummies], axis=1)\n",
    "df.head()"
   ]
  },
  {
   "cell_type": "code",
   "execution_count": 843,
   "metadata": {},
   "outputs": [
    {
     "data": {
      "text/plain": [
       "Location          42237\n",
       "MinTemp               0\n",
       "MaxTemp               0\n",
       "Rainfall              0\n",
       "WindGustSpeed         0\n",
       "                  ...  \n",
       "WindDir3pm_SSW        0\n",
       "WindDir3pm_SW         0\n",
       "WindDir3pm_W          0\n",
       "WindDir3pm_WNW        0\n",
       "WindDir3pm_WSW        0\n",
       "Length: 62, dtype: int64"
      ]
     },
     "execution_count": 843,
     "metadata": {},
     "output_type": "execute_result"
    }
   ],
   "source": [
    "df.isna().sum()"
   ]
  },
  {
   "cell_type": "code",
   "execution_count": 844,
   "metadata": {},
   "outputs": [
    {
     "data": {
      "text/plain": [
       "array(['No', 'Yes', nan], dtype=object)"
      ]
     },
     "execution_count": 844,
     "metadata": {},
     "output_type": "execute_result"
    }
   ],
   "source": [
    "df[\"RainToday\"].unique()"
   ]
  },
  {
   "cell_type": "code",
   "execution_count": 845,
   "metadata": {},
   "outputs": [],
   "source": [
    "df['RainToday'].replace({'No': 0, 'Yes': 1},inplace = True)\n",
    "df['RainTomorrow'].replace({'No': 0, 'Yes': 1},inplace = True)"
   ]
  },
  {
   "cell_type": "code",
   "execution_count": 846,
   "metadata": {},
   "outputs": [
    {
     "data": {
      "text/html": [
       "<div>\n",
       "<style scoped>\n",
       "    .dataframe tbody tr th:only-of-type {\n",
       "        vertical-align: middle;\n",
       "    }\n",
       "\n",
       "    .dataframe tbody tr th {\n",
       "        vertical-align: top;\n",
       "    }\n",
       "\n",
       "    .dataframe thead th {\n",
       "        text-align: right;\n",
       "    }\n",
       "</style>\n",
       "<table border=\"1\" class=\"dataframe\">\n",
       "  <thead>\n",
       "    <tr style=\"text-align: right;\">\n",
       "      <th></th>\n",
       "      <th>Location</th>\n",
       "      <th>MinTemp</th>\n",
       "      <th>MaxTemp</th>\n",
       "      <th>Rainfall</th>\n",
       "      <th>WindGustSpeed</th>\n",
       "      <th>WindSpeed9am</th>\n",
       "      <th>WindSpeed3pm</th>\n",
       "      <th>Humidity9am</th>\n",
       "      <th>Humidity3pm</th>\n",
       "      <th>Pressure9am</th>\n",
       "      <th>...</th>\n",
       "      <th>WindDir3pm_NNW</th>\n",
       "      <th>WindDir3pm_NW</th>\n",
       "      <th>WindDir3pm_S</th>\n",
       "      <th>WindDir3pm_SE</th>\n",
       "      <th>WindDir3pm_SSE</th>\n",
       "      <th>WindDir3pm_SSW</th>\n",
       "      <th>WindDir3pm_SW</th>\n",
       "      <th>WindDir3pm_W</th>\n",
       "      <th>WindDir3pm_WNW</th>\n",
       "      <th>WindDir3pm_WSW</th>\n",
       "    </tr>\n",
       "  </thead>\n",
       "  <tbody>\n",
       "    <tr>\n",
       "      <th>0</th>\n",
       "      <td>-36.080477</td>\n",
       "      <td>13.4</td>\n",
       "      <td>22.900000</td>\n",
       "      <td>0.6</td>\n",
       "      <td>44.0</td>\n",
       "      <td>20.0</td>\n",
       "      <td>24.0</td>\n",
       "      <td>71.0</td>\n",
       "      <td>22.0</td>\n",
       "      <td>1007.7</td>\n",
       "      <td>...</td>\n",
       "      <td>0</td>\n",
       "      <td>0</td>\n",
       "      <td>0</td>\n",
       "      <td>0</td>\n",
       "      <td>0</td>\n",
       "      <td>0</td>\n",
       "      <td>0</td>\n",
       "      <td>0</td>\n",
       "      <td>1</td>\n",
       "      <td>0</td>\n",
       "    </tr>\n",
       "    <tr>\n",
       "      <th>1</th>\n",
       "      <td>-36.080477</td>\n",
       "      <td>7.4</td>\n",
       "      <td>25.100000</td>\n",
       "      <td>0.0</td>\n",
       "      <td>44.0</td>\n",
       "      <td>4.0</td>\n",
       "      <td>22.0</td>\n",
       "      <td>44.0</td>\n",
       "      <td>25.0</td>\n",
       "      <td>1010.6</td>\n",
       "      <td>...</td>\n",
       "      <td>0</td>\n",
       "      <td>0</td>\n",
       "      <td>0</td>\n",
       "      <td>0</td>\n",
       "      <td>0</td>\n",
       "      <td>0</td>\n",
       "      <td>0</td>\n",
       "      <td>0</td>\n",
       "      <td>0</td>\n",
       "      <td>1</td>\n",
       "    </tr>\n",
       "    <tr>\n",
       "      <th>2</th>\n",
       "      <td>-36.080477</td>\n",
       "      <td>12.9</td>\n",
       "      <td>25.700000</td>\n",
       "      <td>0.0</td>\n",
       "      <td>46.0</td>\n",
       "      <td>19.0</td>\n",
       "      <td>26.0</td>\n",
       "      <td>38.0</td>\n",
       "      <td>30.0</td>\n",
       "      <td>1007.6</td>\n",
       "      <td>...</td>\n",
       "      <td>0</td>\n",
       "      <td>0</td>\n",
       "      <td>0</td>\n",
       "      <td>0</td>\n",
       "      <td>0</td>\n",
       "      <td>0</td>\n",
       "      <td>0</td>\n",
       "      <td>0</td>\n",
       "      <td>0</td>\n",
       "      <td>1</td>\n",
       "    </tr>\n",
       "    <tr>\n",
       "      <th>3</th>\n",
       "      <td>-36.080477</td>\n",
       "      <td>9.2</td>\n",
       "      <td>28.000000</td>\n",
       "      <td>0.0</td>\n",
       "      <td>24.0</td>\n",
       "      <td>11.0</td>\n",
       "      <td>9.0</td>\n",
       "      <td>45.0</td>\n",
       "      <td>16.0</td>\n",
       "      <td>1017.6</td>\n",
       "      <td>...</td>\n",
       "      <td>0</td>\n",
       "      <td>0</td>\n",
       "      <td>0</td>\n",
       "      <td>0</td>\n",
       "      <td>0</td>\n",
       "      <td>0</td>\n",
       "      <td>0</td>\n",
       "      <td>0</td>\n",
       "      <td>0</td>\n",
       "      <td>0</td>\n",
       "    </tr>\n",
       "    <tr>\n",
       "      <th>4</th>\n",
       "      <td>-36.080477</td>\n",
       "      <td>17.5</td>\n",
       "      <td>32.300000</td>\n",
       "      <td>1.0</td>\n",
       "      <td>41.0</td>\n",
       "      <td>7.0</td>\n",
       "      <td>20.0</td>\n",
       "      <td>82.0</td>\n",
       "      <td>33.0</td>\n",
       "      <td>1010.8</td>\n",
       "      <td>...</td>\n",
       "      <td>0</td>\n",
       "      <td>1</td>\n",
       "      <td>0</td>\n",
       "      <td>0</td>\n",
       "      <td>0</td>\n",
       "      <td>0</td>\n",
       "      <td>0</td>\n",
       "      <td>0</td>\n",
       "      <td>0</td>\n",
       "      <td>0</td>\n",
       "    </tr>\n",
       "    <tr>\n",
       "      <th>...</th>\n",
       "      <td>...</td>\n",
       "      <td>...</td>\n",
       "      <td>...</td>\n",
       "      <td>...</td>\n",
       "      <td>...</td>\n",
       "      <td>...</td>\n",
       "      <td>...</td>\n",
       "      <td>...</td>\n",
       "      <td>...</td>\n",
       "      <td>...</td>\n",
       "      <td>...</td>\n",
       "      <td>...</td>\n",
       "      <td>...</td>\n",
       "      <td>...</td>\n",
       "      <td>...</td>\n",
       "      <td>...</td>\n",
       "      <td>...</td>\n",
       "      <td>...</td>\n",
       "      <td>...</td>\n",
       "      <td>...</td>\n",
       "      <td>...</td>\n",
       "    </tr>\n",
       "    <tr>\n",
       "      <th>145455</th>\n",
       "      <td>-25.344857</td>\n",
       "      <td>2.8</td>\n",
       "      <td>23.400000</td>\n",
       "      <td>0.0</td>\n",
       "      <td>31.0</td>\n",
       "      <td>13.0</td>\n",
       "      <td>11.0</td>\n",
       "      <td>51.0</td>\n",
       "      <td>24.0</td>\n",
       "      <td>1024.6</td>\n",
       "      <td>...</td>\n",
       "      <td>0</td>\n",
       "      <td>0</td>\n",
       "      <td>0</td>\n",
       "      <td>0</td>\n",
       "      <td>0</td>\n",
       "      <td>0</td>\n",
       "      <td>0</td>\n",
       "      <td>0</td>\n",
       "      <td>0</td>\n",
       "      <td>0</td>\n",
       "    </tr>\n",
       "    <tr>\n",
       "      <th>145456</th>\n",
       "      <td>-25.344857</td>\n",
       "      <td>3.6</td>\n",
       "      <td>25.300000</td>\n",
       "      <td>0.0</td>\n",
       "      <td>22.0</td>\n",
       "      <td>13.0</td>\n",
       "      <td>9.0</td>\n",
       "      <td>56.0</td>\n",
       "      <td>21.0</td>\n",
       "      <td>1023.5</td>\n",
       "      <td>...</td>\n",
       "      <td>0</td>\n",
       "      <td>0</td>\n",
       "      <td>0</td>\n",
       "      <td>0</td>\n",
       "      <td>0</td>\n",
       "      <td>0</td>\n",
       "      <td>0</td>\n",
       "      <td>0</td>\n",
       "      <td>0</td>\n",
       "      <td>0</td>\n",
       "    </tr>\n",
       "    <tr>\n",
       "      <th>145457</th>\n",
       "      <td>-25.344857</td>\n",
       "      <td>5.4</td>\n",
       "      <td>26.900000</td>\n",
       "      <td>0.0</td>\n",
       "      <td>37.0</td>\n",
       "      <td>9.0</td>\n",
       "      <td>9.0</td>\n",
       "      <td>53.0</td>\n",
       "      <td>24.0</td>\n",
       "      <td>1021.0</td>\n",
       "      <td>...</td>\n",
       "      <td>0</td>\n",
       "      <td>0</td>\n",
       "      <td>0</td>\n",
       "      <td>0</td>\n",
       "      <td>0</td>\n",
       "      <td>0</td>\n",
       "      <td>0</td>\n",
       "      <td>0</td>\n",
       "      <td>1</td>\n",
       "      <td>0</td>\n",
       "    </tr>\n",
       "    <tr>\n",
       "      <th>145458</th>\n",
       "      <td>-25.344857</td>\n",
       "      <td>7.8</td>\n",
       "      <td>27.000000</td>\n",
       "      <td>0.0</td>\n",
       "      <td>28.0</td>\n",
       "      <td>13.0</td>\n",
       "      <td>7.0</td>\n",
       "      <td>51.0</td>\n",
       "      <td>24.0</td>\n",
       "      <td>1019.4</td>\n",
       "      <td>...</td>\n",
       "      <td>0</td>\n",
       "      <td>0</td>\n",
       "      <td>0</td>\n",
       "      <td>0</td>\n",
       "      <td>0</td>\n",
       "      <td>0</td>\n",
       "      <td>0</td>\n",
       "      <td>0</td>\n",
       "      <td>0</td>\n",
       "      <td>0</td>\n",
       "    </tr>\n",
       "    <tr>\n",
       "      <th>145459</th>\n",
       "      <td>-25.344857</td>\n",
       "      <td>14.9</td>\n",
       "      <td>23.221348</td>\n",
       "      <td>0.0</td>\n",
       "      <td>39.0</td>\n",
       "      <td>17.0</td>\n",
       "      <td>17.0</td>\n",
       "      <td>62.0</td>\n",
       "      <td>36.0</td>\n",
       "      <td>1020.2</td>\n",
       "      <td>...</td>\n",
       "      <td>0</td>\n",
       "      <td>0</td>\n",
       "      <td>0</td>\n",
       "      <td>0</td>\n",
       "      <td>0</td>\n",
       "      <td>0</td>\n",
       "      <td>0</td>\n",
       "      <td>0</td>\n",
       "      <td>0</td>\n",
       "      <td>0</td>\n",
       "    </tr>\n",
       "  </tbody>\n",
       "</table>\n",
       "<p>145460 rows × 62 columns</p>\n",
       "</div>"
      ],
      "text/plain": [
       "         Location  MinTemp    MaxTemp  Rainfall  WindGustSpeed  WindSpeed9am  \\\n",
       "0      -36.080477     13.4  22.900000       0.6           44.0          20.0   \n",
       "1      -36.080477      7.4  25.100000       0.0           44.0           4.0   \n",
       "2      -36.080477     12.9  25.700000       0.0           46.0          19.0   \n",
       "3      -36.080477      9.2  28.000000       0.0           24.0          11.0   \n",
       "4      -36.080477     17.5  32.300000       1.0           41.0           7.0   \n",
       "...           ...      ...        ...       ...            ...           ...   \n",
       "145455 -25.344857      2.8  23.400000       0.0           31.0          13.0   \n",
       "145456 -25.344857      3.6  25.300000       0.0           22.0          13.0   \n",
       "145457 -25.344857      5.4  26.900000       0.0           37.0           9.0   \n",
       "145458 -25.344857      7.8  27.000000       0.0           28.0          13.0   \n",
       "145459 -25.344857     14.9  23.221348       0.0           39.0          17.0   \n",
       "\n",
       "        WindSpeed3pm  Humidity9am  Humidity3pm  Pressure9am  ...  \\\n",
       "0               24.0         71.0         22.0       1007.7  ...   \n",
       "1               22.0         44.0         25.0       1010.6  ...   \n",
       "2               26.0         38.0         30.0       1007.6  ...   \n",
       "3                9.0         45.0         16.0       1017.6  ...   \n",
       "4               20.0         82.0         33.0       1010.8  ...   \n",
       "...              ...          ...          ...          ...  ...   \n",
       "145455          11.0         51.0         24.0       1024.6  ...   \n",
       "145456           9.0         56.0         21.0       1023.5  ...   \n",
       "145457           9.0         53.0         24.0       1021.0  ...   \n",
       "145458           7.0         51.0         24.0       1019.4  ...   \n",
       "145459          17.0         62.0         36.0       1020.2  ...   \n",
       "\n",
       "        WindDir3pm_NNW  WindDir3pm_NW  WindDir3pm_S  WindDir3pm_SE  \\\n",
       "0                    0              0             0              0   \n",
       "1                    0              0             0              0   \n",
       "2                    0              0             0              0   \n",
       "3                    0              0             0              0   \n",
       "4                    0              1             0              0   \n",
       "...                ...            ...           ...            ...   \n",
       "145455               0              0             0              0   \n",
       "145456               0              0             0              0   \n",
       "145457               0              0             0              0   \n",
       "145458               0              0             0              0   \n",
       "145459               0              0             0              0   \n",
       "\n",
       "        WindDir3pm_SSE  WindDir3pm_SSW  WindDir3pm_SW  WindDir3pm_W  \\\n",
       "0                    0               0              0             0   \n",
       "1                    0               0              0             0   \n",
       "2                    0               0              0             0   \n",
       "3                    0               0              0             0   \n",
       "4                    0               0              0             0   \n",
       "...                ...             ...            ...           ...   \n",
       "145455               0               0              0             0   \n",
       "145456               0               0              0             0   \n",
       "145457               0               0              0             0   \n",
       "145458               0               0              0             0   \n",
       "145459               0               0              0             0   \n",
       "\n",
       "        WindDir3pm_WNW  WindDir3pm_WSW  \n",
       "0                    1               0  \n",
       "1                    0               1  \n",
       "2                    0               1  \n",
       "3                    0               0  \n",
       "4                    0               0  \n",
       "...                ...             ...  \n",
       "145455               0               0  \n",
       "145456               0               0  \n",
       "145457               1               0  \n",
       "145458               0               0  \n",
       "145459               0               0  \n",
       "\n",
       "[145460 rows x 62 columns]"
      ]
     },
     "execution_count": 846,
     "metadata": {},
     "output_type": "execute_result"
    }
   ],
   "source": [
    "df"
   ]
  },
  {
   "cell_type": "code",
   "execution_count": 847,
   "metadata": {},
   "outputs": [],
   "source": [
    "#df = df.drop([\"RainTomorrow\"], axis=1)from sklearn.preprocessing import MinMaxScaler\n"
   ]
  },
  {
   "cell_type": "code",
   "execution_count": 849,
   "metadata": {},
   "outputs": [
    {
     "data": {
      "image/png": "[encoded data removed]",
      "text/plain": [
       "<Figure size 1080x720 with 1 Axes>"
      ]
     },
     "metadata": {},
     "output_type": "display_data"
    }
   ],
   "source": [
    "df.isnull().sum().plot(kind='bar', figsize=(15, 10))\n",
    "plt.show()"
   ]
  },
  {
   "cell_type": "markdown",
   "metadata": {},
   "source": [
    "Reemplazar valores en los registros faltantes de location (latitud) y location_(longitud) es trival."
   ]
  },
  {
   "cell_type": "code",
   "execution_count": 850,
   "metadata": {},
   "outputs": [
    {
     "data": {
      "text/plain": [
       "True"
      ]
     },
     "execution_count": 850,
     "metadata": {},
     "output_type": "execute_result"
    }
   ],
   "source": [
    "cca(df[\"RainToday\"])"
   ]
  },
  {
   "cell_type": "code",
   "execution_count": 863,
   "metadata": {},
   "outputs": [
    {
     "data": {
      "text/plain": [
       "(145460, 62)"
      ]
     },
     "execution_count": 863,
     "metadata": {},
     "output_type": "execute_result"
    }
   ],
   "source": [
    "df.shape"
   ]
  },
  {
   "cell_type": "code",
   "execution_count": 864,
   "metadata": {},
   "outputs": [],
   "source": [
    "df = df[df['Location'].notna()]"
   ]
  },
  {
   "cell_type": "code",
   "execution_count": 865,
   "metadata": {},
   "outputs": [
    {
     "data": {
      "image/png": "[encoded data removed]",
      "text/plain": [
       "<Figure size 1080x720 with 1 Axes>"
      ]
     },
     "metadata": {},
     "output_type": "display_data"
    }
   ],
   "source": [
    "df.isnull().sum().plot(kind='bar', figsize=(15, 10))\n",
    "plt.show()"
   ]
  },
  {
   "cell_type": "code",
   "execution_count": 866,
   "metadata": {},
   "outputs": [
    {
     "data": {
      "text/plain": [
       "(103223, 62)"
      ]
     },
     "execution_count": 866,
     "metadata": {},
     "output_type": "execute_result"
    }
   ],
   "source": [
    "df.shape"
   ]
  },
  {
   "cell_type": "code",
   "execution_count": 867,
   "metadata": {},
   "outputs": [
    {
     "data": {
      "text/html": [
       "<div>\n",
       "<style scoped>\n",
       "    .dataframe tbody tr th:only-of-type {\n",
       "        vertical-align: middle;\n",
       "    }\n",
       "\n",
       "    .dataframe tbody tr th {\n",
       "        vertical-align: top;\n",
       "    }\n",
       "\n",
       "    .dataframe thead th {\n",
       "        text-align: right;\n",
       "    }\n",
       "</style>\n",
       "<table border=\"1\" class=\"dataframe\">\n",
       "  <thead>\n",
       "    <tr style=\"text-align: right;\">\n",
       "      <th></th>\n",
       "      <th>Location</th>\n",
       "      <th>MinTemp</th>\n",
       "      <th>MaxTemp</th>\n",
       "      <th>Rainfall</th>\n",
       "      <th>WindGustSpeed</th>\n",
       "      <th>WindSpeed9am</th>\n",
       "      <th>WindSpeed3pm</th>\n",
       "      <th>Humidity9am</th>\n",
       "      <th>Humidity3pm</th>\n",
       "      <th>Pressure9am</th>\n",
       "      <th>...</th>\n",
       "      <th>WindDir3pm_NNW</th>\n",
       "      <th>WindDir3pm_NW</th>\n",
       "      <th>WindDir3pm_S</th>\n",
       "      <th>WindDir3pm_SE</th>\n",
       "      <th>WindDir3pm_SSE</th>\n",
       "      <th>WindDir3pm_SSW</th>\n",
       "      <th>WindDir3pm_SW</th>\n",
       "      <th>WindDir3pm_W</th>\n",
       "      <th>WindDir3pm_WNW</th>\n",
       "      <th>WindDir3pm_WSW</th>\n",
       "    </tr>\n",
       "  </thead>\n",
       "  <tbody>\n",
       "    <tr>\n",
       "      <th>0</th>\n",
       "      <td>0.06951</td>\n",
       "      <td>0.513064</td>\n",
       "      <td>0.446154</td>\n",
       "      <td>0.001632</td>\n",
       "      <td>0.294574</td>\n",
       "      <td>0.153846</td>\n",
       "      <td>0.289157</td>\n",
       "      <td>0.71</td>\n",
       "      <td>0.22</td>\n",
       "      <td>0.435593</td>\n",
       "      <td>...</td>\n",
       "      <td>0.0</td>\n",
       "      <td>0.0</td>\n",
       "      <td>0.0</td>\n",
       "      <td>0.0</td>\n",
       "      <td>0.0</td>\n",
       "      <td>0.0</td>\n",
       "      <td>0.0</td>\n",
       "      <td>0.0</td>\n",
       "      <td>1.0</td>\n",
       "      <td>0.0</td>\n",
       "    </tr>\n",
       "    <tr>\n",
       "      <th>1</th>\n",
       "      <td>0.06951</td>\n",
       "      <td>0.370546</td>\n",
       "      <td>0.494505</td>\n",
       "      <td>0.000000</td>\n",
       "      <td>0.294574</td>\n",
       "      <td>0.030769</td>\n",
       "      <td>0.265060</td>\n",
       "      <td>0.44</td>\n",
       "      <td>0.25</td>\n",
       "      <td>0.484746</td>\n",
       "      <td>...</td>\n",
       "      <td>0.0</td>\n",
       "      <td>0.0</td>\n",
       "      <td>0.0</td>\n",
       "      <td>0.0</td>\n",
       "      <td>0.0</td>\n",
       "      <td>0.0</td>\n",
       "      <td>0.0</td>\n",
       "      <td>0.0</td>\n",
       "      <td>0.0</td>\n",
       "      <td>1.0</td>\n",
       "    </tr>\n",
       "    <tr>\n",
       "      <th>2</th>\n",
       "      <td>0.06951</td>\n",
       "      <td>0.501188</td>\n",
       "      <td>0.507692</td>\n",
       "      <td>0.000000</td>\n",
       "      <td>0.310078</td>\n",
       "      <td>0.146154</td>\n",
       "      <td>0.313253</td>\n",
       "      <td>0.38</td>\n",
       "      <td>0.30</td>\n",
       "      <td>0.433898</td>\n",
       "      <td>...</td>\n",
       "      <td>0.0</td>\n",
       "      <td>0.0</td>\n",
       "      <td>0.0</td>\n",
       "      <td>0.0</td>\n",
       "      <td>0.0</td>\n",
       "      <td>0.0</td>\n",
       "      <td>0.0</td>\n",
       "      <td>0.0</td>\n",
       "      <td>0.0</td>\n",
       "      <td>1.0</td>\n",
       "    </tr>\n",
       "    <tr>\n",
       "      <th>3</th>\n",
       "      <td>0.06951</td>\n",
       "      <td>0.413302</td>\n",
       "      <td>0.558242</td>\n",
       "      <td>0.000000</td>\n",
       "      <td>0.139535</td>\n",
       "      <td>0.084615</td>\n",
       "      <td>0.108434</td>\n",
       "      <td>0.45</td>\n",
       "      <td>0.16</td>\n",
       "      <td>0.603390</td>\n",
       "      <td>...</td>\n",
       "      <td>0.0</td>\n",
       "      <td>0.0</td>\n",
       "      <td>0.0</td>\n",
       "      <td>0.0</td>\n",
       "      <td>0.0</td>\n",
       "      <td>0.0</td>\n",
       "      <td>0.0</td>\n",
       "      <td>0.0</td>\n",
       "      <td>0.0</td>\n",
       "      <td>0.0</td>\n",
       "    </tr>\n",
       "    <tr>\n",
       "      <th>4</th>\n",
       "      <td>0.06951</td>\n",
       "      <td>0.610451</td>\n",
       "      <td>0.652747</td>\n",
       "      <td>0.002720</td>\n",
       "      <td>0.271318</td>\n",
       "      <td>0.053846</td>\n",
       "      <td>0.240964</td>\n",
       "      <td>0.82</td>\n",
       "      <td>0.33</td>\n",
       "      <td>0.488136</td>\n",
       "      <td>...</td>\n",
       "      <td>0.0</td>\n",
       "      <td>1.0</td>\n",
       "      <td>0.0</td>\n",
       "      <td>0.0</td>\n",
       "      <td>0.0</td>\n",
       "      <td>0.0</td>\n",
       "      <td>0.0</td>\n",
       "      <td>0.0</td>\n",
       "      <td>0.0</td>\n",
       "      <td>0.0</td>\n",
       "    </tr>\n",
       "  </tbody>\n",
       "</table>\n",
       "<p>5 rows × 62 columns</p>\n",
       "</div>"
      ],
      "text/plain": [
       "   Location   MinTemp   MaxTemp  Rainfall  WindGustSpeed  WindSpeed9am  \\\n",
       "0   0.06951  0.513064  0.446154  0.001632       0.294574      0.153846   \n",
       "1   0.06951  0.370546  0.494505  0.000000       0.294574      0.030769   \n",
       "2   0.06951  0.501188  0.507692  0.000000       0.310078      0.146154   \n",
       "3   0.06951  0.413302  0.558242  0.000000       0.139535      0.084615   \n",
       "4   0.06951  0.610451  0.652747  0.002720       0.271318      0.053846   \n",
       "\n",
       "   WindSpeed3pm  Humidity9am  Humidity3pm  Pressure9am  ...  WindDir3pm_NNW  \\\n",
       "0      0.289157         0.71         0.22     0.435593  ...             0.0   \n",
       "1      0.265060         0.44         0.25     0.484746  ...             0.0   \n",
       "2      0.313253         0.38         0.30     0.433898  ...             0.0   \n",
       "3      0.108434         0.45         0.16     0.603390  ...             0.0   \n",
       "4      0.240964         0.82         0.33     0.488136  ...             0.0   \n",
       "\n",
       "   WindDir3pm_NW  WindDir3pm_S  WindDir3pm_SE  WindDir3pm_SSE  WindDir3pm_SSW  \\\n",
       "0            0.0           0.0            0.0             0.0             0.0   \n",
       "1            0.0           0.0            0.0             0.0             0.0   \n",
       "2            0.0           0.0            0.0             0.0             0.0   \n",
       "3            0.0           0.0            0.0             0.0             0.0   \n",
       "4            1.0           0.0            0.0             0.0             0.0   \n",
       "\n",
       "   WindDir3pm_SW  WindDir3pm_W  WindDir3pm_WNW  WindDir3pm_WSW  \n",
       "0            0.0           0.0             1.0             0.0  \n",
       "1            0.0           0.0             0.0             1.0  \n",
       "2            0.0           0.0             0.0             1.0  \n",
       "3            0.0           0.0             0.0             0.0  \n",
       "4            0.0           0.0             0.0             0.0  \n",
       "\n",
       "[5 rows x 62 columns]"
      ]
     },
     "execution_count": 867,
     "metadata": {},
     "output_type": "execute_result"
    }
   ],
   "source": [
    "from sklearn.preprocessing import MinMaxScaler\n",
    "scaler = MinMaxScaler()\n",
    "df = pd.DataFrame(scaler.fit_transform(df), columns = df.columns)\n",
    "df.head()"
   ]
  },
  {
   "cell_type": "code",
   "execution_count": 869,
   "metadata": {},
   "outputs": [
    {
     "data": {
      "text/plain": [
       "array([ 0.,  1., nan])"
      ]
     },
     "execution_count": 869,
     "metadata": {},
     "output_type": "execute_result"
    }
   ],
   "source": [
    "df[\"RainToday\"].unique()"
   ]
  },
  {
   "cell_type": "code",
   "execution_count": 871,
   "metadata": {},
   "outputs": [
    {
     "data": {
      "text/plain": [
       "array([ 0.,  1., nan])"
      ]
     },
     "execution_count": 871,
     "metadata": {},
     "output_type": "execute_result"
    }
   ],
   "source": [
    "df[\"RainTomorrow\"].unique()"
   ]
  },
  {
   "cell_type": "code",
   "execution_count": 872,
   "metadata": {},
   "outputs": [
    {
     "data": {
      "image/png": "[encoded data removed]",
      "text/plain": [
       "<Figure size 1080x720 with 1 Axes>"
      ]
     },
     "metadata": {},
     "output_type": "display_data"
    }
   ],
   "source": [
    "df.isnull().sum().plot(kind='bar', figsize=(15, 10))\n",
    "plt.show()"
   ]
  },
  {
   "cell_type": "code",
   "execution_count": null,
   "metadata": {},
   "outputs": [],
   "source": []
  },
  {
   "cell_type": "code",
   "execution_count": null,
   "metadata": {},
   "outputs": [],
   "source": []
  },
  {
   "cell_type": "code",
   "execution_count": 873,
   "metadata": {},
   "outputs": [],
   "source": [
    "from sklearn.impute import KNNImputer\n",
    "imputer = KNNImputer(n_neighbors=5)\n",
    "df = pd.DataFrame(imputer.fit_transform(df),columns = df.columns)"
   ]
  },
  {
   "cell_type": "code",
   "execution_count": 876,
   "metadata": {},
   "outputs": [
    {
     "data": {
      "text/plain": [
       "Location          0\n",
       "MinTemp           0\n",
       "MaxTemp           0\n",
       "Rainfall          0\n",
       "WindGustSpeed     0\n",
       "                 ..\n",
       "WindDir3pm_SSW    0\n",
       "WindDir3pm_SW     0\n",
       "WindDir3pm_W      0\n",
       "WindDir3pm_WNW    0\n",
       "WindDir3pm_WSW    0\n",
       "Length: 62, dtype: int64"
      ]
     },
     "execution_count": 876,
     "metadata": {},
     "output_type": "execute_result"
    }
   ],
   "source": [
    "df.isnull().sum()"
   ]
  },
  {
   "cell_type": "code",
   "execution_count": 899,
   "metadata": {},
   "outputs": [],
   "source": [
    "from sklearn.model_selection import train_test_split\n",
    "from sklearn import preprocessing\n",
    "from sklearn import utils\n"
   ]
  },
  {
   "cell_type": "code",
   "execution_count": 900,
   "metadata": {},
   "outputs": [],
   "source": [
    "X = df.drop(['RainTomorrow'], axis = 1)\n",
    "y = df['RainTomorrow']\n",
    "lab_enc = preprocessing.LabelEncoder()\n",
    "y_ = lab_enc.fit_transform(y)\n",
    "y_pro = y.astype('int')"
   ]
  },
  {
   "cell_type": "code",
   "execution_count": 901,
   "metadata": {},
   "outputs": [],
   "source": [
    "X_train, X_test, y_train, y_test = train_test_split(X, y_, test_size=0.30)"
   ]
  },
  {
   "cell_type": "code",
   "execution_count": 902,
   "metadata": {},
   "outputs": [],
   "source": [
    "from sklearn.linear_model import LogisticRegression\n"
   ]
  },
  {
   "cell_type": "code",
   "execution_count": 903,
   "metadata": {},
   "outputs": [
    {
     "name": "stdout",
     "output_type": "stream",
     "text": [
      "<class 'pandas.core.frame.DataFrame'>\n",
      "RangeIndex: 103223 entries, 0 to 103222\n",
      "Data columns (total 61 columns):\n",
      " #   Column           Non-Null Count   Dtype  \n",
      "---  ------           --------------   -----  \n",
      " 0   Location         103223 non-null  float64\n",
      " 1   MinTemp          103223 non-null  float64\n",
      " 2   MaxTemp          103223 non-null  float64\n",
      " 3   Rainfall         103223 non-null  float64\n",
      " 4   WindGustSpeed    103223 non-null  float64\n",
      " 5   WindSpeed9am     103223 non-null  float64\n",
      " 6   WindSpeed3pm     103223 non-null  float64\n",
      " 7   Humidity9am      103223 non-null  float64\n",
      " 8   Humidity3pm      103223 non-null  float64\n",
      " 9   Pressure9am      103223 non-null  float64\n",
      " 10  Pressure3pm      103223 non-null  float64\n",
      " 11  Temp9am          103223 non-null  float64\n",
      " 12  Temp3pm          103223 non-null  float64\n",
      " 13  RainToday        103223 non-null  float64\n",
      " 14  Month            103223 non-null  float64\n",
      " 15  Location_        103223 non-null  float64\n",
      " 16  WindGustDir_ENE  103223 non-null  float64\n",
      " 17  WindGustDir_ESE  103223 non-null  float64\n",
      " 18  WindGustDir_N    103223 non-null  float64\n",
      " 19  WindGustDir_NE   103223 non-null  float64\n",
      " 20  WindGustDir_NNE  103223 non-null  float64\n",
      " 21  WindGustDir_NNW  103223 non-null  float64\n",
      " 22  WindGustDir_NW   103223 non-null  float64\n",
      " 23  WindGustDir_S    103223 non-null  float64\n",
      " 24  WindGustDir_SE   103223 non-null  float64\n",
      " 25  WindGustDir_SSE  103223 non-null  float64\n",
      " 26  WindGustDir_SSW  103223 non-null  float64\n",
      " 27  WindGustDir_SW   103223 non-null  float64\n",
      " 28  WindGustDir_W    103223 non-null  float64\n",
      " 29  WindGustDir_WNW  103223 non-null  float64\n",
      " 30  WindGustDir_WSW  103223 non-null  float64\n",
      " 31  WindDir9am_ENE   103223 non-null  float64\n",
      " 32  WindDir9am_ESE   103223 non-null  float64\n",
      " 33  WindDir9am_N     103223 non-null  float64\n",
      " 34  WindDir9am_NE    103223 non-null  float64\n",
      " 35  WindDir9am_NNE   103223 non-null  float64\n",
      " 36  WindDir9am_NNW   103223 non-null  float64\n",
      " 37  WindDir9am_NW    103223 non-null  float64\n",
      " 38  WindDir9am_S     103223 non-null  float64\n",
      " 39  WindDir9am_SE    103223 non-null  float64\n",
      " 40  WindDir9am_SSE   103223 non-null  float64\n",
      " 41  WindDir9am_SSW   103223 non-null  float64\n",
      " 42  WindDir9am_SW    103223 non-null  float64\n",
      " 43  WindDir9am_W     103223 non-null  float64\n",
      " 44  WindDir9am_WNW   103223 non-null  float64\n",
      " 45  WindDir9am_WSW   103223 non-null  float64\n",
      " 46  WindDir3pm_ENE   103223 non-null  float64\n",
      " 47  WindDir3pm_ESE   103223 non-null  float64\n",
      " 48  WindDir3pm_N     103223 non-null  float64\n",
      " 49  WindDir3pm_NE    103223 non-null  float64\n",
      " 50  WindDir3pm_NNE   103223 non-null  float64\n",
      " 51  WindDir3pm_NNW   103223 non-null  float64\n",
      " 52  WindDir3pm_NW    103223 non-null  float64\n",
      " 53  WindDir3pm_S     103223 non-null  float64\n",
      " 54  WindDir3pm_SE    103223 non-null  float64\n",
      " 55  WindDir3pm_SSE   103223 non-null  float64\n",
      " 56  WindDir3pm_SSW   103223 non-null  float64\n",
      " 57  WindDir3pm_SW    103223 non-null  float64\n",
      " 58  WindDir3pm_W     103223 non-null  float64\n",
      " 59  WindDir3pm_WNW   103223 non-null  float64\n",
      " 60  WindDir3pm_WSW   103223 non-null  float64\n",
      "dtypes: float64(61)\n",
      "memory usage: 48.0 MB\n"
     ]
    }
   ],
   "source": [
    "X.info()"
   ]
  },
  {
   "cell_type": "code",
   "execution_count": 915,
   "metadata": {},
   "outputs": [
    {
     "name": "stdout",
     "output_type": "stream",
     "text": [
      "Accuracy: 83.13%\n"
     ]
    },
    {
     "name": "stderr",
     "output_type": "stream",
     "text": [
      "/home/fernando/miniconda3/envs/uba/lib/python3.6/site-packages/sklearn/linear_model/_logistic.py:765: ConvergenceWarning: lbfgs failed to converge (status=1):\n",
      "STOP: TOTAL NO. of ITERATIONS REACHED LIMIT.\n",
      "\n",
      "Increase the number of iterations (max_iter) or scale the data as shown in:\n",
      "    https://scikit-learn.org/stable/modules/preprocessing.html\n",
      "Please also refer to the documentation for alternative solver options:\n",
      "    https://scikit-learn.org/stable/modules/linear_model.html#logistic-regression\n",
      "  extra_warning_msg=_LOGISTIC_SOLVER_CONVERGENCE_MSG)\n"
     ]
    }
   ],
   "source": [
    "logreg = LogisticRegression()\n",
    "logreg.fit(X_train,y_train)\n",
    "sc = round(100*logreg.score(X_test, y_test),2)\n",
    "print(\"Accuracy: \" + str(sc) + \"%\")"
   ]
  },
  {
   "cell_type": "code",
   "execution_count": 912,
   "metadata": {},
   "outputs": [
    {
     "name": "stdout",
     "output_type": "stream",
     "text": [
      "Accuracy: 84.36%\n"
     ]
    }
   ],
   "source": [
    "from sklearn.ensemble import RandomForestClassifier\n",
    "clf2 = RandomForestClassifier(random_state=0).fit(X_train, y_train)\n",
    "sc2 = round(100*clf2.score(X_test, y_test),2)\n",
    "print(\"Accuracy: \" + str(sc2) + \"%\")\n"
   ]
  }
 ],
 "metadata": {
  "colab": {
   "collapsed_sections": [],
   "name": "TP Integrador Análisis de datos.ipynb",
   "provenance": []
  },
  "kernelspec": {
   "display_name": "uba",
   "language": "python",
   "name": "uba"
  },
  "language_info": {
   "codemirror_mode": {
    "name": "ipython",
    "version": 3
   },
   "file_extension": ".py",
   "mimetype": "text/x-python",
   "name": "python",
   "nbconvert_exporter": "python",
   "pygments_lexer": "ipython3",
   "version": "3.6.13"
  }
 },
 "nbformat": 4,
 "nbformat_minor": 1
}
